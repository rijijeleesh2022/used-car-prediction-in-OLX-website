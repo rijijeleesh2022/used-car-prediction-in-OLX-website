{
 "cells": [
  {
   "cell_type": "markdown",
   "id": "332aaa9d",
   "metadata": {},
   "source": [
    "# Car price prediction using multiple machine learning models"
   ]
  },
  {
   "cell_type": "raw",
   "id": "74ab0a87",
   "metadata": {},
   "source": [
    "Done By:\n",
    "    Arathy Suresh\n",
    "    Hepsy P Heny \n",
    "    Riji Jeleesh\n",
    "    Shivam Rathod"
   ]
  },
  {
   "cell_type": "markdown",
   "id": "ff017f63",
   "metadata": {},
   "source": [
    "### Predicting Description:\n",
    "\n",
    "> **We are predicting the selling price of the car based on various features of the cars, including the present price of the cars. I will be using Multiple Linear Regression for building The model.**"
   ]
  },
  {
   "cell_type": "markdown",
   "id": "9510cb8e",
   "metadata": {},
   "source": [
    " **Data Description:**\n",
    " \n",
    "     This dataset contains information about cars listed on the website OLX.in"
   ]
  },
  {
   "cell_type": "markdown",
   "id": "c8425111",
   "metadata": {},
   "source": [
    "### Source:\n",
    "\n",
    "> **Kaggle Data Science Community**"
   ]
  },
  {
   "cell_type": "markdown",
   "id": "ef33f16f",
   "metadata": {},
   "source": [
    "**Attribute Information:**\n",
    "    \n",
    "    The datasets consist of several independent variables include:\n",
    "    -------------------------------------------------------------------------------------\n",
    "        \n",
    "        * Name              :  Name of the Car\n",
    "        _________________________________________________________________________________\n",
    "        \n",
    "        * Company Name      :  Comapny Name of the Car\n",
    "        _________________________________________________________________________________\n",
    "        \n",
    "        * Year              :  Purchased Year\n",
    "        _________________________________________________________________________________\n",
    "         \n",
    "        * Selling Price     :  The price for each car\n",
    "        _________________________________________________________________________________\n",
    "        \n",
    "        * KM_driven         :  Total Kilo Meters driven by each car\n",
    "        _________________________________________________________________________________\n",
    "        \n",
    "        * Fuel              :  Fuel Type (Petrol/Diesel/LPG/CNG)\n",
    "        _________________________________________________________________________________\n",
    "        \n",
    "        * Seller_type       :  Defines whether the seller is a dealer or an individual.\n",
    "        _________________________________________________________________________________\n",
    "        \n",
    "        * Transmission      :  Defines if the car is automatic or Manual \n",
    "        _________________________________________________________________________________\n",
    "                 \n",
    "        * Owner             :  If the seller is first owner or second owner etc..\n",
    "        _________________________________________________________________________________\n",
    "        \n",
    "        * Mileage           :  Shows how much mileage the car gives\n",
    "        _________________________________________________________________________________\n",
    "        \n",
    "        * Engine            :  Defines the Cubic capacity of the Engine.\n",
    "        _________________________________________________________________________________\n",
    "        \n",
    "        * Max_Power         :  Defines the power of the Engine measured in bhp\n",
    "        _________________________________________________________________________________\n",
    "        \n",
    "        * Seats             :  Number of seats"
   ]
  },
  {
   "cell_type": "markdown",
   "id": "564b3ee9",
   "metadata": {},
   "source": [
    "#### Importing libraries"
   ]
  },
  {
   "cell_type": "code",
   "execution_count": 1,
   "id": "1361dab2",
   "metadata": {},
   "outputs": [],
   "source": [
    "import pandas as pd                    \n",
    "import numpy as np\n",
    "import matplotlib.pyplot as plt\n",
    "import seaborn as sns\n",
    "import warnings\n",
    "warnings.filterwarnings('ignore')"
   ]
  },
  {
   "cell_type": "markdown",
   "id": "2e2966e7",
   "metadata": {},
   "source": [
    "#### Reading CSV file"
   ]
  },
  {
   "cell_type": "code",
   "execution_count": 2,
   "id": "3dd61bf8",
   "metadata": {},
   "outputs": [],
   "source": [
    "df = pd.read_csv(\"Cars1.csv\")"
   ]
  },
  {
   "cell_type": "markdown",
   "id": "5bf61d7e",
   "metadata": {},
   "source": [
    "**First five rows of the dataset**"
   ]
  },
  {
   "cell_type": "code",
   "execution_count": 3,
   "id": "cc817235",
   "metadata": {
    "scrolled": false
   },
   "outputs": [
    {
     "data": {
      "text/html": [
       "<div>\n",
       "<style scoped>\n",
       "    .dataframe tbody tr th:only-of-type {\n",
       "        vertical-align: middle;\n",
       "    }\n",
       "\n",
       "    .dataframe tbody tr th {\n",
       "        vertical-align: top;\n",
       "    }\n",
       "\n",
       "    .dataframe thead th {\n",
       "        text-align: right;\n",
       "    }\n",
       "</style>\n",
       "<table border=\"1\" class=\"dataframe\">\n",
       "  <thead>\n",
       "    <tr style=\"text-align: right;\">\n",
       "      <th></th>\n",
       "      <th>name</th>\n",
       "      <th>Company name</th>\n",
       "      <th>year</th>\n",
       "      <th>selling_price</th>\n",
       "      <th>km_driven</th>\n",
       "      <th>fuel</th>\n",
       "      <th>seller_type</th>\n",
       "      <th>transmission</th>\n",
       "      <th>owner</th>\n",
       "      <th>mileage</th>\n",
       "      <th>engine</th>\n",
       "      <th>max_power</th>\n",
       "      <th>seats</th>\n",
       "    </tr>\n",
       "  </thead>\n",
       "  <tbody>\n",
       "    <tr>\n",
       "      <th>0</th>\n",
       "      <td>Maruti Swift Dzire VDI</td>\n",
       "      <td>Maruti</td>\n",
       "      <td>2014</td>\n",
       "      <td>450000</td>\n",
       "      <td>145500</td>\n",
       "      <td>Diesel</td>\n",
       "      <td>Individual</td>\n",
       "      <td>Manual</td>\n",
       "      <td>First Owner</td>\n",
       "      <td>23.4 kmpl</td>\n",
       "      <td>1248 CC</td>\n",
       "      <td>74 bhp</td>\n",
       "      <td>5.0</td>\n",
       "    </tr>\n",
       "    <tr>\n",
       "      <th>1</th>\n",
       "      <td>Skoda Rapid 1.5 TDI Ambition</td>\n",
       "      <td>Skoda</td>\n",
       "      <td>2014</td>\n",
       "      <td>370000</td>\n",
       "      <td>120000</td>\n",
       "      <td>Diesel</td>\n",
       "      <td>Individual</td>\n",
       "      <td>Manual</td>\n",
       "      <td>Second Owner</td>\n",
       "      <td>21.14 kmpl</td>\n",
       "      <td>1498 CC</td>\n",
       "      <td>103.52 bhp</td>\n",
       "      <td>5.0</td>\n",
       "    </tr>\n",
       "    <tr>\n",
       "      <th>2</th>\n",
       "      <td>Honda City 2017-2020 EXi</td>\n",
       "      <td>Honda</td>\n",
       "      <td>2006</td>\n",
       "      <td>158000</td>\n",
       "      <td>140000</td>\n",
       "      <td>Petrol</td>\n",
       "      <td>Individual</td>\n",
       "      <td>Manual</td>\n",
       "      <td>Third Owner</td>\n",
       "      <td>17.7 kmpl</td>\n",
       "      <td>1497 CC</td>\n",
       "      <td>78 bhp</td>\n",
       "      <td>5.0</td>\n",
       "    </tr>\n",
       "    <tr>\n",
       "      <th>3</th>\n",
       "      <td>Hyundai i20 Sportz Diesel</td>\n",
       "      <td>Hyundai</td>\n",
       "      <td>2010</td>\n",
       "      <td>225000</td>\n",
       "      <td>127000</td>\n",
       "      <td>Diesel</td>\n",
       "      <td>Individual</td>\n",
       "      <td>Manual</td>\n",
       "      <td>First Owner</td>\n",
       "      <td>23.0 kmpl</td>\n",
       "      <td>1396 CC</td>\n",
       "      <td>90 bhp</td>\n",
       "      <td>5.0</td>\n",
       "    </tr>\n",
       "    <tr>\n",
       "      <th>4</th>\n",
       "      <td>Maruti Swift VXI BSIII</td>\n",
       "      <td>Maruti</td>\n",
       "      <td>2007</td>\n",
       "      <td>130000</td>\n",
       "      <td>120000</td>\n",
       "      <td>Petrol</td>\n",
       "      <td>Individual</td>\n",
       "      <td>Manual</td>\n",
       "      <td>First Owner</td>\n",
       "      <td>16.1 kmpl</td>\n",
       "      <td>1298 CC</td>\n",
       "      <td>88.2 bhp</td>\n",
       "      <td>5.0</td>\n",
       "    </tr>\n",
       "  </tbody>\n",
       "</table>\n",
       "</div>"
      ],
      "text/plain": [
       "                           name Company name  year  selling_price  km_driven  \\\n",
       "0        Maruti Swift Dzire VDI       Maruti  2014         450000     145500   \n",
       "1  Skoda Rapid 1.5 TDI Ambition        Skoda  2014         370000     120000   \n",
       "2      Honda City 2017-2020 EXi        Honda  2006         158000     140000   \n",
       "3     Hyundai i20 Sportz Diesel      Hyundai  2010         225000     127000   \n",
       "4        Maruti Swift VXI BSIII       Maruti  2007         130000     120000   \n",
       "\n",
       "     fuel seller_type transmission         owner     mileage   engine  \\\n",
       "0  Diesel  Individual       Manual   First Owner   23.4 kmpl  1248 CC   \n",
       "1  Diesel  Individual       Manual  Second Owner  21.14 kmpl  1498 CC   \n",
       "2  Petrol  Individual       Manual   Third Owner   17.7 kmpl  1497 CC   \n",
       "3  Diesel  Individual       Manual   First Owner   23.0 kmpl  1396 CC   \n",
       "4  Petrol  Individual       Manual   First Owner   16.1 kmpl  1298 CC   \n",
       "\n",
       "    max_power  seats  \n",
       "0      74 bhp    5.0  \n",
       "1  103.52 bhp    5.0  \n",
       "2      78 bhp    5.0  \n",
       "3      90 bhp    5.0  \n",
       "4    88.2 bhp    5.0  "
      ]
     },
     "execution_count": 3,
     "metadata": {},
     "output_type": "execute_result"
    }
   ],
   "source": [
    "df.head()"
   ]
  },
  {
   "cell_type": "markdown",
   "id": "5a508b11",
   "metadata": {},
   "source": [
    "**Last five rows of our dataset**"
   ]
  },
  {
   "cell_type": "code",
   "execution_count": 4,
   "id": "0739d2de",
   "metadata": {},
   "outputs": [
    {
     "data": {
      "text/html": [
       "<div>\n",
       "<style scoped>\n",
       "    .dataframe tbody tr th:only-of-type {\n",
       "        vertical-align: middle;\n",
       "    }\n",
       "\n",
       "    .dataframe tbody tr th {\n",
       "        vertical-align: top;\n",
       "    }\n",
       "\n",
       "    .dataframe thead th {\n",
       "        text-align: right;\n",
       "    }\n",
       "</style>\n",
       "<table border=\"1\" class=\"dataframe\">\n",
       "  <thead>\n",
       "    <tr style=\"text-align: right;\">\n",
       "      <th></th>\n",
       "      <th>name</th>\n",
       "      <th>Company name</th>\n",
       "      <th>year</th>\n",
       "      <th>selling_price</th>\n",
       "      <th>km_driven</th>\n",
       "      <th>fuel</th>\n",
       "      <th>seller_type</th>\n",
       "      <th>transmission</th>\n",
       "      <th>owner</th>\n",
       "      <th>mileage</th>\n",
       "      <th>engine</th>\n",
       "      <th>max_power</th>\n",
       "      <th>seats</th>\n",
       "    </tr>\n",
       "  </thead>\n",
       "  <tbody>\n",
       "    <tr>\n",
       "      <th>8123</th>\n",
       "      <td>Hyundai i20 Magna</td>\n",
       "      <td>Hyundai</td>\n",
       "      <td>2013</td>\n",
       "      <td>320000</td>\n",
       "      <td>110000</td>\n",
       "      <td>Petrol</td>\n",
       "      <td>Individual</td>\n",
       "      <td>Manual</td>\n",
       "      <td>First Owner</td>\n",
       "      <td>18.5 kmpl</td>\n",
       "      <td>1197 CC</td>\n",
       "      <td>82.85 bhp</td>\n",
       "      <td>5.0</td>\n",
       "    </tr>\n",
       "    <tr>\n",
       "      <th>8124</th>\n",
       "      <td>Hyundai Verna CRDi SX</td>\n",
       "      <td>Hyundai</td>\n",
       "      <td>2007</td>\n",
       "      <td>135000</td>\n",
       "      <td>119000</td>\n",
       "      <td>Diesel</td>\n",
       "      <td>Individual</td>\n",
       "      <td>Manual</td>\n",
       "      <td>Fourth &amp; Above Owner</td>\n",
       "      <td>16.8 kmpl</td>\n",
       "      <td>1493 CC</td>\n",
       "      <td>110 bhp</td>\n",
       "      <td>5.0</td>\n",
       "    </tr>\n",
       "    <tr>\n",
       "      <th>8125</th>\n",
       "      <td>Maruti Swift Dzire ZDi</td>\n",
       "      <td>Maruti</td>\n",
       "      <td>2009</td>\n",
       "      <td>382000</td>\n",
       "      <td>120000</td>\n",
       "      <td>Diesel</td>\n",
       "      <td>Individual</td>\n",
       "      <td>Manual</td>\n",
       "      <td>First Owner</td>\n",
       "      <td>19.3 kmpl</td>\n",
       "      <td>1248 CC</td>\n",
       "      <td>73.9 bhp</td>\n",
       "      <td>5.0</td>\n",
       "    </tr>\n",
       "    <tr>\n",
       "      <th>8126</th>\n",
       "      <td>Tata Indigo CR4</td>\n",
       "      <td>Tata</td>\n",
       "      <td>2013</td>\n",
       "      <td>290000</td>\n",
       "      <td>25000</td>\n",
       "      <td>Diesel</td>\n",
       "      <td>Individual</td>\n",
       "      <td>Manual</td>\n",
       "      <td>First Owner</td>\n",
       "      <td>23.57 kmpl</td>\n",
       "      <td>1396 CC</td>\n",
       "      <td>70 bhp</td>\n",
       "      <td>5.0</td>\n",
       "    </tr>\n",
       "    <tr>\n",
       "      <th>8127</th>\n",
       "      <td>Tata Indigo CR4</td>\n",
       "      <td>Tata</td>\n",
       "      <td>2013</td>\n",
       "      <td>290000</td>\n",
       "      <td>25000</td>\n",
       "      <td>Diesel</td>\n",
       "      <td>Individual</td>\n",
       "      <td>Manual</td>\n",
       "      <td>First Owner</td>\n",
       "      <td>23.57 kmpl</td>\n",
       "      <td>1396 CC</td>\n",
       "      <td>70 bhp</td>\n",
       "      <td>5.0</td>\n",
       "    </tr>\n",
       "  </tbody>\n",
       "</table>\n",
       "</div>"
      ],
      "text/plain": [
       "                        name Company name  year  selling_price  km_driven  \\\n",
       "8123       Hyundai i20 Magna      Hyundai  2013         320000     110000   \n",
       "8124   Hyundai Verna CRDi SX      Hyundai  2007         135000     119000   \n",
       "8125  Maruti Swift Dzire ZDi       Maruti  2009         382000     120000   \n",
       "8126         Tata Indigo CR4         Tata  2013         290000      25000   \n",
       "8127         Tata Indigo CR4         Tata  2013         290000      25000   \n",
       "\n",
       "        fuel seller_type transmission                 owner     mileage  \\\n",
       "8123  Petrol  Individual       Manual           First Owner   18.5 kmpl   \n",
       "8124  Diesel  Individual       Manual  Fourth & Above Owner   16.8 kmpl   \n",
       "8125  Diesel  Individual       Manual           First Owner   19.3 kmpl   \n",
       "8126  Diesel  Individual       Manual           First Owner  23.57 kmpl   \n",
       "8127  Diesel  Individual       Manual           First Owner  23.57 kmpl   \n",
       "\n",
       "       engine  max_power  seats  \n",
       "8123  1197 CC  82.85 bhp    5.0  \n",
       "8124  1493 CC    110 bhp    5.0  \n",
       "8125  1248 CC   73.9 bhp    5.0  \n",
       "8126  1396 CC     70 bhp    5.0  \n",
       "8127  1396 CC     70 bhp    5.0  "
      ]
     },
     "execution_count": 4,
     "metadata": {},
     "output_type": "execute_result"
    }
   ],
   "source": [
    "df.tail()"
   ]
  },
  {
   "cell_type": "markdown",
   "id": "70c62b78",
   "metadata": {},
   "source": [
    "**shape of dataset**"
   ]
  },
  {
   "cell_type": "code",
   "execution_count": 5,
   "id": "2b6e411f",
   "metadata": {},
   "outputs": [
    {
     "data": {
      "text/plain": [
       "(8128, 13)"
      ]
     },
     "execution_count": 5,
     "metadata": {},
     "output_type": "execute_result"
    }
   ],
   "source": [
    "df.shape       "
   ]
  },
  {
   "cell_type": "markdown",
   "id": "2a9c2a46",
   "metadata": {},
   "source": [
    "**Our dataset contains 6926 rows and 13 columns**"
   ]
  },
  {
   "cell_type": "code",
   "execution_count": 6,
   "id": "90df9399",
   "metadata": {
    "scrolled": false
   },
   "outputs": [
    {
     "name": "stdout",
     "output_type": "stream",
     "text": [
      "<class 'pandas.core.frame.DataFrame'>\n",
      "RangeIndex: 8128 entries, 0 to 8127\n",
      "Data columns (total 13 columns):\n",
      " #   Column         Non-Null Count  Dtype  \n",
      "---  ------         --------------  -----  \n",
      " 0   name           8128 non-null   object \n",
      " 1   Company name   8128 non-null   object \n",
      " 2   year           8128 non-null   int64  \n",
      " 3   selling_price  8128 non-null   int64  \n",
      " 4   km_driven      8128 non-null   int64  \n",
      " 5   fuel           8128 non-null   object \n",
      " 6   seller_type    8128 non-null   object \n",
      " 7   transmission   8128 non-null   object \n",
      " 8   owner          8128 non-null   object \n",
      " 9   mileage        7907 non-null   object \n",
      " 10  engine         7907 non-null   object \n",
      " 11  max_power      7913 non-null   object \n",
      " 12  seats          7907 non-null   float64\n",
      "dtypes: float64(1), int64(3), object(9)\n",
      "memory usage: 825.6+ KB\n"
     ]
    }
   ],
   "source": [
    "df.info()"
   ]
  },
  {
   "cell_type": "markdown",
   "id": "5b1b7581",
   "metadata": {},
   "source": [
    "**Shows datatypes, number of columns, column_labels, column data types, memory usage, range index, and the number of cells in each column (non-null values).** "
   ]
  },
  {
   "cell_type": "markdown",
   "id": "91c05107",
   "metadata": {},
   "source": [
    "### Data Cleaning"
   ]
  },
  {
   "cell_type": "code",
   "execution_count": 7,
   "id": "108eaf60",
   "metadata": {},
   "outputs": [
    {
     "data": {
      "text/plain": [
       "1202"
      ]
     },
     "execution_count": 7,
     "metadata": {},
     "output_type": "execute_result"
    }
   ],
   "source": [
    "df.duplicated().sum()"
   ]
  },
  {
   "cell_type": "markdown",
   "id": "9155618d",
   "metadata": {},
   "source": [
    "**1202 duplicate Rows available**"
   ]
  },
  {
   "cell_type": "markdown",
   "id": "396c790a",
   "metadata": {},
   "source": [
    "**We're dropping the duplicate rows**"
   ]
  },
  {
   "cell_type": "code",
   "execution_count": 8,
   "id": "5d72a4f5",
   "metadata": {
    "scrolled": true
   },
   "outputs": [],
   "source": [
    "df.drop_duplicates(subset=None, keep='first', inplace=True, ignore_index=True)"
   ]
  },
  {
   "cell_type": "code",
   "execution_count": 9,
   "id": "692a4e77",
   "metadata": {},
   "outputs": [
    {
     "name": "stdout",
     "output_type": "stream",
     "text": [
      "<class 'pandas.core.frame.DataFrame'>\n",
      "RangeIndex: 6926 entries, 0 to 6925\n",
      "Data columns (total 13 columns):\n",
      " #   Column         Non-Null Count  Dtype  \n",
      "---  ------         --------------  -----  \n",
      " 0   name           6926 non-null   object \n",
      " 1   Company name   6926 non-null   object \n",
      " 2   year           6926 non-null   int64  \n",
      " 3   selling_price  6926 non-null   int64  \n",
      " 4   km_driven      6926 non-null   int64  \n",
      " 5   fuel           6926 non-null   object \n",
      " 6   seller_type    6926 non-null   object \n",
      " 7   transmission   6926 non-null   object \n",
      " 8   owner          6926 non-null   object \n",
      " 9   mileage        6718 non-null   object \n",
      " 10  engine         6718 non-null   object \n",
      " 11  max_power      6721 non-null   object \n",
      " 12  seats          6718 non-null   float64\n",
      "dtypes: float64(1), int64(3), object(9)\n",
      "memory usage: 703.5+ KB\n"
     ]
    }
   ],
   "source": [
    "df.info()"
   ]
  },
  {
   "cell_type": "markdown",
   "id": "113347be",
   "metadata": {},
   "source": [
    "**Cleaning columns values and change the datatype of some columns**"
   ]
  },
  {
   "cell_type": "code",
   "execution_count": 10,
   "id": "26fd1ec2",
   "metadata": {},
   "outputs": [
    {
     "data": {
      "text/plain": [
       "array(['23.4 kmpl', '21.14 kmpl', '17.7 kmpl', '23.0 kmpl', '16.1 kmpl',\n",
       "       '20.14 kmpl', '17.3 km/kg', '23.59 kmpl', '20.0 kmpl',\n",
       "       '19.01 kmpl', '17.3 kmpl', '19.3 kmpl', nan, '18.9 kmpl',\n",
       "       '18.15 kmpl', '24.52 kmpl', '19.7 kmpl', '22.54 kmpl', '21.0 kmpl',\n",
       "       '25.5 kmpl', '26.59 kmpl', '21.5 kmpl', '20.3 kmpl', '21.4 kmpl',\n",
       "       '24.7 kmpl', '18.2 kmpl', '16.8 kmpl', '24.3 kmpl', '14.0 kmpl',\n",
       "       '18.6 kmpl', '33.44 km/kg', '23.95 kmpl', '17.0 kmpl',\n",
       "       '20.63 kmpl', '13.93 kmpl', '16.0 kmpl', '17.8 kmpl', '18.5 kmpl',\n",
       "       '12.55 kmpl', '12.99 kmpl', '14.8 kmpl', '13.5 kmpl', '26.0 kmpl',\n",
       "       '20.65 kmpl', '27.3 kmpl', '11.36 kmpl', '17.68 kmpl',\n",
       "       '14.28 kmpl', '18.53 kmpl', '14.84 kmpl', '21.12 kmpl',\n",
       "       '20.36 kmpl', '21.27 kmpl', '18.16 kmpl', '22.0 kmpl', '25.1 kmpl',\n",
       "       '20.51 kmpl', '21.66 kmpl', '25.2 kmpl', '22.9 kmpl', '16.02 kmpl',\n",
       "       '20.54 kmpl', '22.77 kmpl', '15.71 kmpl', '23.1 kmpl',\n",
       "       '19.02 kmpl', '19.81 kmpl', '26.2 km/kg', '16.47 kmpl',\n",
       "       '15.04 kmpl', '19.1 kmpl', '21.79 kmpl', '18.8 kmpl', '21.21 kmpl',\n",
       "       '15.37 kmpl', '11.79 kmpl', '19.0 kmpl', '14.3 kmpl', '15.8 kmpl',\n",
       "       '15.1 kmpl', '19.09 kmpl', '22.32 kmpl', '21.9 kmpl', '14.53 kmpl',\n",
       "       '21.63 kmpl', '20.85 kmpl', '20.45 kmpl', '19.67 kmpl',\n",
       "       '23.01 kmpl', '20.77 kmpl', '17.92 kmpl', '17.01 kmpl',\n",
       "       '22.37 kmpl', '19.33 kmpl', '9.5 kmpl', '12.83 kmpl', '22.48 kmpl',\n",
       "       '16.78 kmpl', '14.67 kmpl', '15.0 kmpl', '13.96 kmpl', '18.0 kmpl',\n",
       "       '12.07 kmpl', '26.21 kmpl', '10.8 kmpl', '16.3 kmpl', '13.6 kmpl',\n",
       "       '14.74 kmpl', '15.6 kmpl', '19.56 kmpl', '22.69 kmpl',\n",
       "       '19.16 kmpl', '18.12 kmpl', '12.1 kmpl', '17.5 kmpl', '42.0 kmpl',\n",
       "       '20.4 kmpl', '21.1 kmpl', '19.44 kmpl', '13.0 kmpl', '21.43 kmpl',\n",
       "       '22.95 kmpl', '16.2 kmpl', '15.3 kmpl', '28.09 kmpl', '17.4 kmpl',\n",
       "       '19.4 kmpl', '26.6 km/kg', '17.6 kmpl', '28.4 kmpl', '14.1 kmpl',\n",
       "       '25.17 kmpl', '22.74 kmpl', '17.57 kmpl', '16.95 kmpl',\n",
       "       '19.49 kmpl', '17.21 kmpl', '13.2 kmpl', '14.2 kmpl', '26.8 kmpl',\n",
       "       '25.4 kmpl', '11.5 kmpl', '27.28 kmpl', '17.97 kmpl', '12.8 kmpl',\n",
       "       '16.55 kmpl', '12.05 kmpl', '14.07 kmpl', '21.02 kmpl',\n",
       "       '11.57 kmpl', '17.9 kmpl', '15.96 kmpl', '17.1 kmpl', '17.19 kmpl',\n",
       "       '21.01 kmpl', '24.0 kmpl', '25.6 kmpl', '21.38 kmpl', '23.84 kmpl',\n",
       "       '23.08 kmpl', '14.24 kmpl', '20.71 kmpl', '15.64 kmpl',\n",
       "       '14.5 kmpl', '16.34 kmpl', '27.39 kmpl', '11.1 kmpl', '13.9 kmpl',\n",
       "       '20.88 km/kg', '20.92 kmpl', '23.8 kmpl', '24.4 kmpl',\n",
       "       '15.29 kmpl', '21.19 kmpl', '22.5 kmpl', '19.6 kmpl', '23.65 kmpl',\n",
       "       '25.32 kmpl', '23.5 kmpl', '16.6 kmpl', '23.9 kmpl', '20.8 kmpl',\n",
       "       '27.62 kmpl', '12.9 kmpl', '25.44 kmpl', '17.88 kmpl', '22.7 kmpl',\n",
       "       '17.2 kmpl', '15.42 kmpl', '19.68 kmpl', '18.7 kmpl', '15.4 kmpl',\n",
       "       '19.34 kmpl', '22.71 kmpl', '25.8 kmpl', '13.7 kmpl', '12.2 kmpl',\n",
       "       '18.49 kmpl', '9.0 kmpl', '0.0 kmpl', '13.58 kmpl', '10.1 kmpl',\n",
       "       '20.5 kmpl', '25.0 kmpl', '10.5 kmpl', '22.07 kmpl', '22.3 kmpl',\n",
       "       '15.26 kmpl', '20.62 kmpl', '27.4 kmpl', '23.2 kmpl', '14.4 kmpl',\n",
       "       '18.4 kmpl', '30.46 km/kg', '14.02 kmpl', '11.0 kmpl', '20.6 kmpl',\n",
       "       '22.05 kmpl', '20.2 kmpl', '18.1 kmpl', '22.1 kmpl', '19.87 kmpl',\n",
       "       '13.01 kmpl', '18.06 kmpl', '26.1 kmpl', '16.52 kmpl',\n",
       "       '13.55 kmpl', '24.2 kmpl', '25.83 kmpl', '11.2 kmpl', '17.09 kmpl',\n",
       "       '21.03 kmpl', '17.45 kmpl', '21.64 kmpl', '21.94 km/kg',\n",
       "       '13.87 kmpl', '19.98 kmpl', '20.52 kmpl', '23.57 kmpl',\n",
       "       '11.7 kmpl', '17.43 kmpl', '18.88 kmpl', '13.68 kmpl',\n",
       "       '11.18 kmpl', '20.89 kmpl', '11.8 kmpl', '19.62 kmpl', '21.7 kmpl',\n",
       "       '14.9 kmpl', '19.5 kmpl', '10.91 kmpl', '15.7 kmpl', '20.73 kmpl',\n",
       "       '15.85 kmpl', '20.7 kmpl', '14.23 kmpl', '16.5 kmpl', '17.36 kmpl',\n",
       "       '12.6 kmpl', '16.36 kmpl', '14.95 kmpl', '16.9 kmpl', '19.2 kmpl',\n",
       "       '16.96 kmpl', '22.15 kmpl', '18.78 kmpl', '19.61 kmpl',\n",
       "       '17.71 kmpl', '18.3 kmpl', '19.12 kmpl', '19.72 kmpl', '12.0 kmpl',\n",
       "       '11.4 kmpl', '23.03 kmpl', '11.07 kmpl', '15.9 kmpl', '17.67 kmpl',\n",
       "       '20.46 kmpl', '13.1 kmpl', '13.45 km/kg', '24.8 kmpl',\n",
       "       '15.73 kmpl', '15.11 kmpl', '12.7 kmpl', '21.2 kmpl', '20.38 kmpl',\n",
       "       '21.56 kmpl', '13.22 kmpl', '14.49 kmpl', '15.05 kmpl',\n",
       "       '23.26 kmpl', '15.41 kmpl', '13.8 kmpl', '22.27 kmpl',\n",
       "       '32.52 km/kg', '14.66 kmpl', '12.12 kmpl', '16.84 kmpl',\n",
       "       '14.09 kmpl', '14.7 kmpl', '13.4 kmpl', '15.5 kmpl', '13.49 kmpl',\n",
       "       '11.88 km/kg', '14.6 kmpl', '10.75 kmpl', '24.5 kmpl',\n",
       "       '11.74 kmpl', '16.07 kmpl', '15.63 kmpl', '26.3 km/kg',\n",
       "       '23.7 km/kg', '25.47 kmpl', '17.05 kmpl', '23.3 kmpl', '11.9 kmpl',\n",
       "       '13.38 kmpl', '20.86 kmpl', '19.2 km/kg', '10.9 kmpl',\n",
       "       '18.25 kmpl', '15.2 kmpl', '20.37 kmpl', '17.8 km/kg', '21.8 kmpl',\n",
       "       '11.96 kmpl', '24.04 kmpl', '19.69 kmpl', '13.73 kmpl',\n",
       "       '21.04 kmpl', '25.01 kmpl', '10.93 kmpl', '10.9 km/kg',\n",
       "       '24.29 kmpl', '13.44 kmpl', '20.07 kmpl', '21.1 km/kg',\n",
       "       '19.08 kmpl', '20.34 kmpl', '11.68 kmpl', '12.5 kmpl', '12.3 kmpl',\n",
       "       '23.87 kmpl', '16.38 kmpl', '17.42 kmpl', '10.0 kmpl',\n",
       "       '18.24 kmpl', '10.71 kmpl', '19.59 kmpl', '16.7 kmpl',\n",
       "       '19.83 kmpl', '21.76 kmpl', '16.05 kmpl', '20.28 kmpl',\n",
       "       '16.25 kmpl', '16.73 kmpl', '18.48 kmpl', '13.2 km/kg',\n",
       "       '21.4 km/kg', '14.99 kmpl', '18.76 kmpl', '16.4 kmpl',\n",
       "       '19.64 kmpl', '14.94 kmpl', '16.6 km/kg', '16.0 km/kg',\n",
       "       '17.11 kmpl', '22.8 km/kg', '32.26 km/kg', '33.0 km/kg',\n",
       "       '12.4 kmpl', '18.44 kmpl', '16.09 kmpl', '19.0 km/kg',\n",
       "       '12.62 kmpl', '21.13 kmpl', '15.17 kmpl', '21.73 kmpl',\n",
       "       '21.72 kmpl', '12.85 kmpl', '14.81 kmpl', '13.24 kmpl',\n",
       "       '14.4 km/kg', '21.49 kmpl', '14.62 kmpl', '26.83 km/kg',\n",
       "       '11.45 kmpl', '12.08 kmpl', '15.74 kmpl', '11.3 kmpl',\n",
       "       '15.1 km/kg', '14.21 kmpl', '11.72 kmpl', '16.51 kmpl'],\n",
       "      dtype=object)"
      ]
     },
     "execution_count": 10,
     "metadata": {},
     "output_type": "execute_result"
    }
   ],
   "source": [
    "df['mileage'].unique()"
   ]
  },
  {
   "cell_type": "code",
   "execution_count": 11,
   "id": "261b52c6",
   "metadata": {},
   "outputs": [],
   "source": [
    "df[\"mileage\"] = df[\"mileage\"].str.replace(\"kmpl\",\"\")\n",
    "df[\"mileage\"] = df[\"mileage\"].str.replace(\"km/kg\",\"\")\n",
    "df[\"mileage\"] = df[\"mileage\"].str.replace(\" \",\"\")"
   ]
  },
  {
   "cell_type": "markdown",
   "id": "44d16ac3",
   "metadata": {},
   "source": [
    "**convert datatype using .astype function**"
   ]
  },
  {
   "cell_type": "code",
   "execution_count": 12,
   "id": "27d54c30",
   "metadata": {},
   "outputs": [],
   "source": [
    "# The data types of Mileage attribute were converted\n",
    "df['mileage'] = df['mileage'].astype(float)"
   ]
  },
  {
   "cell_type": "markdown",
   "id": "8cc889bc",
   "metadata": {},
   "source": [
    "**repeat the above process and clean th engine column**"
   ]
  },
  {
   "cell_type": "code",
   "execution_count": 13,
   "id": "54c5b340",
   "metadata": {},
   "outputs": [
    {
     "data": {
      "text/plain": [
       "array(['1248 CC', '1498 CC', '1497 CC', '1396 CC', '1298 CC', '1197 CC',\n",
       "       '1061 CC', '796 CC', '1364 CC', '1399 CC', '1461 CC', '993 CC',\n",
       "       nan, '1198 CC', '1199 CC', '998 CC', '1591 CC', '2179 CC',\n",
       "       '1368 CC', '2982 CC', '2494 CC', '2143 CC', '2477 CC', '1462 CC',\n",
       "       '2755 CC', '1968 CC', '1798 CC', '1196 CC', '1373 CC', '1598 CC',\n",
       "       '1998 CC', '1086 CC', '1194 CC', '1172 CC', '1405 CC', '1582 CC',\n",
       "       '999 CC', '2487 CC', '1999 CC', '3604 CC', '2987 CC', '1995 CC',\n",
       "       '1451 CC', '1969 CC', '2967 CC', '2497 CC', '1797 CC', '1991 CC',\n",
       "       '2362 CC', '1493 CC', '1599 CC', '1341 CC', '1794 CC', '799 CC',\n",
       "       '1193 CC', '2696 CC', '1495 CC', '1186 CC', '1047 CC', '2498 CC',\n",
       "       '2956 CC', '2523 CC', '1120 CC', '624 CC', '1496 CC', '1984 CC',\n",
       "       '2354 CC', '814 CC', '793 CC', '1799 CC', '936 CC', '1956 CC',\n",
       "       '1997 CC', '1499 CC', '1948 CC', '2997 CC', '2489 CC', '2499 CC',\n",
       "       '2609 CC', '2953 CC', '1150 CC', '1994 CC', '1388 CC', '1527 CC',\n",
       "       '2199 CC', '995 CC', '2993 CC', '1586 CC', '1390 CC', '909 CC',\n",
       "       '2393 CC', '3198 CC', '1339 CC', '2835 CC', '2092 CC', '1595 CC',\n",
       "       '2496 CC', '1596 CC', '1597 CC', '2596 CC', '2148 CC', '1299 CC',\n",
       "       '1590 CC', '2231 CC', '2694 CC', '2200 CC', '1795 CC', '1896 CC',\n",
       "       '1796 CC', '1422 CC', '1489 CC', '2359 CC', '2197 CC', '2999 CC',\n",
       "       '1781 CC', '2650 CC', '1343 CC', '2446 CC', '3498 CC', '2198 CC',\n",
       "       '2776 CC', '1950 CC'], dtype=object)"
      ]
     },
     "execution_count": 13,
     "metadata": {},
     "output_type": "execute_result"
    }
   ],
   "source": [
    "df['engine'].unique()"
   ]
  },
  {
   "cell_type": "code",
   "execution_count": 14,
   "id": "29efaa71",
   "metadata": {},
   "outputs": [],
   "source": [
    "df[\"engine\"] = df[\"engine\"].str.replace(\"CC\",\"\")\n",
    "df[\"engine\"] = df[\"engine\"].str.replace(\" \",\"\")\n",
    "df['engine'] = df['engine'].astype(float)"
   ]
  },
  {
   "cell_type": "markdown",
   "id": "ba1fe778",
   "metadata": {},
   "source": [
    "**Replacing special character and The data types of Engine attribute were converted**"
   ]
  },
  {
   "cell_type": "markdown",
   "id": "f6dfe2b0",
   "metadata": {},
   "source": [
    "**repeat the above process and clean th max_power column**"
   ]
  },
  {
   "cell_type": "code",
   "execution_count": 15,
   "id": "2be15fad",
   "metadata": {},
   "outputs": [
    {
     "data": {
      "text/plain": [
       "array(['74 bhp', '103.52 bhp', '78 bhp', '90 bhp', '88.2 bhp',\n",
       "       '81.86 bhp', '57.5 bhp', '37 bhp', '67.1 bhp', '68.1 bhp',\n",
       "       '108.45 bhp', '60 bhp', '73.9 bhp', nan, '67 bhp', '82 bhp',\n",
       "       '88.5 bhp', '46.3 bhp', '88.73 bhp', '64.1 bhp', '98.6 bhp',\n",
       "       '88.8 bhp', '83.81 bhp', '83.1 bhp', '47.3 bhp', '73.8 bhp',\n",
       "       '34.2 bhp', '35 bhp', '81.83 bhp', '40.3 bhp', '121.3 bhp',\n",
       "       '138.03 bhp', '160.77 bhp', '117.3 bhp', '116.3 bhp', '83.14 bhp',\n",
       "       '67.05 bhp', '168.5 bhp', '100 bhp', '120.7 bhp', '98.63 bhp',\n",
       "       '175.56 bhp', '103.25 bhp', '171.5 bhp', '100.6 bhp', '174.33 bhp',\n",
       "       '187.74 bhp', '170 bhp', '78.9 bhp', '88.76 bhp', '86.8 bhp',\n",
       "       '108.495 bhp', '108.62 bhp', '93.7 bhp', '103.6 bhp', '98.59 bhp',\n",
       "       '189 bhp', '67.04 bhp', '68.05 bhp', '58.2 bhp', '82.85 bhp',\n",
       "       '81.80 bhp', '73 bhp', '120 bhp', '94.68 bhp', '160 bhp', '65 bhp',\n",
       "       '155 bhp', '69.01 bhp', '126.32 bhp', '138.1 bhp', '83.8 bhp',\n",
       "       '126.2 bhp', '98.96 bhp', '62.1 bhp', '86.7 bhp', '188 bhp',\n",
       "       '214.56 bhp', '177 bhp', '280 bhp', '148.31 bhp', '254.79 bhp',\n",
       "       '190 bhp', '177.46 bhp', '204 bhp', '141 bhp', '117.6 bhp',\n",
       "       '241.4 bhp', '282 bhp', '150 bhp', '147.5 bhp', '108.5 bhp',\n",
       "       '103.5 bhp', '183 bhp', '181.04 bhp', '157.7 bhp', '164.7 bhp',\n",
       "       '91.1 bhp', '400 bhp', '68 bhp', '75 bhp', '85.8 bhp', '87.2 bhp',\n",
       "       '53 bhp', '118 bhp', '103.2 bhp', '83 bhp', '84 bhp', '58.16 bhp',\n",
       "       '147.94 bhp', '74.02 bhp', '53.3 bhp', '80 bhp', '88.7 bhp',\n",
       "       '97.7 bhp', '121.36 bhp', '162 bhp', '140 bhp', '94 bhp',\n",
       "       '100.57 bhp', '82.9 bhp', '83.11 bhp', '70 bhp', '153.86 bhp',\n",
       "       '121 bhp', '126.3 bhp', '73.97 bhp', '171 bhp', '69 bhp',\n",
       "       '99.6 bhp', '102 bhp', '105 bhp', '63 bhp', '79.4 bhp', '97.9 bhp',\n",
       "       '63.1 bhp', '66.1 bhp', '110 bhp', '174.5 bhp', '53.26 bhp',\n",
       "       '73.75 bhp', '67.06 bhp', '64.08 bhp', '37.5 bhp', '189.3 bhp',\n",
       "       '158.8 bhp', '61.7 bhp', '55.2 bhp', '71.01 bhp', '73.74 bhp',\n",
       "       '147.9 bhp', '71 bhp', '77 bhp', '121.4 bhp', '113.4 bhp',\n",
       "       '47 bhp', '130 bhp', '57.6 bhp', '138 bhp', '52.8 bhp',\n",
       "       '53.64 bhp', '53.5 bhp', '76.8 bhp', '82.4 bhp', '113.42 bhp',\n",
       "       '76 bhp', '84.8 bhp', '0', '56.3 bhp', '218 bhp', '112 bhp',\n",
       "       '92 bhp', '105.5 bhp', '169 bhp', '95 bhp', '72.4 bhp', '115 bhp',\n",
       "       '152 bhp', '91.2 bhp', '156 bhp', '74.9 bhp', '62 bhp',\n",
       "       '105.3 bhp', '73.94 bhp', '85.80 bhp', '85 bhp', '118.3 bhp',\n",
       "       '72 bhp', '147.51 bhp', '58 bhp', '64 bhp', '126.24 bhp',\n",
       "       '76.9 bhp', '194.3 bhp', '99.23 bhp', '89.84 bhp', '123.7 bhp',\n",
       "       '118.35 bhp', '99 bhp', '241 bhp', '136 bhp', '261.4 bhp',\n",
       "       '104.68 bhp', '37.48 bhp', '104 bhp', '88.50 bhp', '63.12 bhp',\n",
       "       '91.7 bhp', '102.5 bhp', '177.6 bhp', '45 bhp', '123.37 bhp',\n",
       "       '147.8 bhp', '184 bhp', '84.48 bhp', '68.07 bhp', '74.96 bhp',\n",
       "       '167.6 bhp', '152.87 bhp', '112.2 bhp', '83.83 bhp', '197 bhp',\n",
       "       '110.4 bhp', '104.55 bhp', '103 bhp', '103.3 bhp', '66 bhp',\n",
       "       '108.6 bhp', '165 bhp', '163.7 bhp', '116.9 bhp', '94.93 bhp',\n",
       "       '127 bhp', '198.5 bhp', '179.5 bhp', '120.69 bhp', '121.31 bhp',\n",
       "       '138.08 bhp', '187.7 bhp', '80.8 bhp', '86.79 bhp', '93.87 bhp',\n",
       "       '116.6 bhp', '143 bhp', '92.7 bhp', '88 bhp', '58.33 bhp',\n",
       "       '78.8 bhp', '64.4 bhp', '125 bhp', '139.01 bhp', '254.8 bhp',\n",
       "       '181 bhp', '258 bhp', '55.23 bhp', '270.9 bhp', '265 bhp',\n",
       "       '157.75 bhp', '101 bhp', '186 bhp', '187.4 bhp', '224 bhp',\n",
       "       '64.9 bhp', '148 bhp', '35.5 bhp', '89.75 bhp', '32.8 bhp',\n",
       "       '91.72 bhp', '106 bhp', '98.97 bhp', '66.6 bhp', '86 bhp',\n",
       "       '65.3 bhp', '98.82 bhp', '198.25 bhp', '38 bhp', '142 bhp',\n",
       "       '132 bhp', '174.57 bhp', '178 bhp', '163.2 bhp', '203.2 bhp',\n",
       "       '177.5 bhp', '175 bhp', '57 bhp', '80.84 bhp', '68.4 bhp',\n",
       "       '167.67 bhp', '170.63 bhp', '52 bhp', '149.5 bhp', '48.21 bhp',\n",
       "       ' bhp', '201.1 bhp', '100.5 bhp', '144 bhp', '194.4 bhp',\n",
       "       '168.7 bhp', '104.5 bhp', '103.26 bhp', '116.4 bhp', '98.79 bhp',\n",
       "       '80.9 bhp', '58.3 bhp', '272 bhp', '235 bhp', '167.62 bhp',\n",
       "       '170.30 bhp', '139.46 bhp', '158 bhp', '110.5 bhp', '82.5 bhp',\n",
       "       '141.1 bhp', '38.4 bhp', '197.2 bhp', '161 bhp', '194 bhp',\n",
       "       '122.4 bhp', '134.10 bhp', '60.2 bhp', '134 bhp', '203 bhp',\n",
       "       '135.1 bhp'], dtype=object)"
      ]
     },
     "execution_count": 15,
     "metadata": {},
     "output_type": "execute_result"
    }
   ],
   "source": [
    "df['max_power'].unique()"
   ]
  },
  {
   "cell_type": "code",
   "execution_count": 16,
   "id": "e381a8d0",
   "metadata": {},
   "outputs": [],
   "source": [
    "df[\"max_power\"] = df[\"max_power\"].str.replace(\"bhp\",\"\")\n",
    "df[\"max_power\"] = df[\"max_power\"].str.replace(\" \",\"\")"
   ]
  },
  {
   "cell_type": "code",
   "execution_count": 17,
   "id": "078ae830",
   "metadata": {},
   "outputs": [],
   "source": [
    "df['max_power']=df['max_power'].str.split().str[0]"
   ]
  },
  {
   "cell_type": "code",
   "execution_count": 18,
   "id": "88368948",
   "metadata": {},
   "outputs": [],
   "source": [
    "df['max_power'] = df['max_power'].astype(float)"
   ]
  },
  {
   "cell_type": "markdown",
   "id": "edc22202",
   "metadata": {},
   "source": [
    "**In above three cells we're replacing the special character and the data types of max_power attribute were converted**"
   ]
  },
  {
   "cell_type": "code",
   "execution_count": 19,
   "id": "e89d8085",
   "metadata": {},
   "outputs": [
    {
     "data": {
      "text/html": [
       "<div>\n",
       "<style scoped>\n",
       "    .dataframe tbody tr th:only-of-type {\n",
       "        vertical-align: middle;\n",
       "    }\n",
       "\n",
       "    .dataframe tbody tr th {\n",
       "        vertical-align: top;\n",
       "    }\n",
       "\n",
       "    .dataframe thead th {\n",
       "        text-align: right;\n",
       "    }\n",
       "</style>\n",
       "<table border=\"1\" class=\"dataframe\">\n",
       "  <thead>\n",
       "    <tr style=\"text-align: right;\">\n",
       "      <th></th>\n",
       "      <th>name</th>\n",
       "      <th>Company name</th>\n",
       "      <th>year</th>\n",
       "      <th>selling_price</th>\n",
       "      <th>km_driven</th>\n",
       "      <th>fuel</th>\n",
       "      <th>seller_type</th>\n",
       "      <th>transmission</th>\n",
       "      <th>owner</th>\n",
       "      <th>mileage</th>\n",
       "      <th>engine</th>\n",
       "      <th>max_power</th>\n",
       "      <th>seats</th>\n",
       "    </tr>\n",
       "  </thead>\n",
       "  <tbody>\n",
       "    <tr>\n",
       "      <th>0</th>\n",
       "      <td>Maruti Swift Dzire VDI</td>\n",
       "      <td>Maruti</td>\n",
       "      <td>2014</td>\n",
       "      <td>450000</td>\n",
       "      <td>145500</td>\n",
       "      <td>Diesel</td>\n",
       "      <td>Individual</td>\n",
       "      <td>Manual</td>\n",
       "      <td>First Owner</td>\n",
       "      <td>23.40</td>\n",
       "      <td>1248.0</td>\n",
       "      <td>74.00</td>\n",
       "      <td>5.0</td>\n",
       "    </tr>\n",
       "    <tr>\n",
       "      <th>1</th>\n",
       "      <td>Skoda Rapid 1.5 TDI Ambition</td>\n",
       "      <td>Skoda</td>\n",
       "      <td>2014</td>\n",
       "      <td>370000</td>\n",
       "      <td>120000</td>\n",
       "      <td>Diesel</td>\n",
       "      <td>Individual</td>\n",
       "      <td>Manual</td>\n",
       "      <td>Second Owner</td>\n",
       "      <td>21.14</td>\n",
       "      <td>1498.0</td>\n",
       "      <td>103.52</td>\n",
       "      <td>5.0</td>\n",
       "    </tr>\n",
       "    <tr>\n",
       "      <th>2</th>\n",
       "      <td>Honda City 2017-2020 EXi</td>\n",
       "      <td>Honda</td>\n",
       "      <td>2006</td>\n",
       "      <td>158000</td>\n",
       "      <td>140000</td>\n",
       "      <td>Petrol</td>\n",
       "      <td>Individual</td>\n",
       "      <td>Manual</td>\n",
       "      <td>Third Owner</td>\n",
       "      <td>17.70</td>\n",
       "      <td>1497.0</td>\n",
       "      <td>78.00</td>\n",
       "      <td>5.0</td>\n",
       "    </tr>\n",
       "    <tr>\n",
       "      <th>3</th>\n",
       "      <td>Hyundai i20 Sportz Diesel</td>\n",
       "      <td>Hyundai</td>\n",
       "      <td>2010</td>\n",
       "      <td>225000</td>\n",
       "      <td>127000</td>\n",
       "      <td>Diesel</td>\n",
       "      <td>Individual</td>\n",
       "      <td>Manual</td>\n",
       "      <td>First Owner</td>\n",
       "      <td>23.00</td>\n",
       "      <td>1396.0</td>\n",
       "      <td>90.00</td>\n",
       "      <td>5.0</td>\n",
       "    </tr>\n",
       "    <tr>\n",
       "      <th>4</th>\n",
       "      <td>Maruti Swift VXI BSIII</td>\n",
       "      <td>Maruti</td>\n",
       "      <td>2007</td>\n",
       "      <td>130000</td>\n",
       "      <td>120000</td>\n",
       "      <td>Petrol</td>\n",
       "      <td>Individual</td>\n",
       "      <td>Manual</td>\n",
       "      <td>First Owner</td>\n",
       "      <td>16.10</td>\n",
       "      <td>1298.0</td>\n",
       "      <td>88.20</td>\n",
       "      <td>5.0</td>\n",
       "    </tr>\n",
       "    <tr>\n",
       "      <th>5</th>\n",
       "      <td>Hyundai Xcent 1.2 VTVT E Plus</td>\n",
       "      <td>Hyundai</td>\n",
       "      <td>2017</td>\n",
       "      <td>440000</td>\n",
       "      <td>45000</td>\n",
       "      <td>Petrol</td>\n",
       "      <td>Individual</td>\n",
       "      <td>Manual</td>\n",
       "      <td>First Owner</td>\n",
       "      <td>20.14</td>\n",
       "      <td>1197.0</td>\n",
       "      <td>81.86</td>\n",
       "      <td>5.0</td>\n",
       "    </tr>\n",
       "    <tr>\n",
       "      <th>6</th>\n",
       "      <td>Maruti Wagon R LXI DUO BSIII</td>\n",
       "      <td>Maruti</td>\n",
       "      <td>2007</td>\n",
       "      <td>96000</td>\n",
       "      <td>175000</td>\n",
       "      <td>LPG</td>\n",
       "      <td>Individual</td>\n",
       "      <td>Manual</td>\n",
       "      <td>First Owner</td>\n",
       "      <td>17.30</td>\n",
       "      <td>1061.0</td>\n",
       "      <td>57.50</td>\n",
       "      <td>5.0</td>\n",
       "    </tr>\n",
       "    <tr>\n",
       "      <th>7</th>\n",
       "      <td>Maruti 800 DX BSII</td>\n",
       "      <td>Maruti</td>\n",
       "      <td>2001</td>\n",
       "      <td>45000</td>\n",
       "      <td>5000</td>\n",
       "      <td>Petrol</td>\n",
       "      <td>Individual</td>\n",
       "      <td>Manual</td>\n",
       "      <td>Second Owner</td>\n",
       "      <td>16.10</td>\n",
       "      <td>796.0</td>\n",
       "      <td>37.00</td>\n",
       "      <td>4.0</td>\n",
       "    </tr>\n",
       "    <tr>\n",
       "      <th>8</th>\n",
       "      <td>Toyota Etios VXD</td>\n",
       "      <td>Toyota</td>\n",
       "      <td>2011</td>\n",
       "      <td>350000</td>\n",
       "      <td>90000</td>\n",
       "      <td>Diesel</td>\n",
       "      <td>Individual</td>\n",
       "      <td>Manual</td>\n",
       "      <td>First Owner</td>\n",
       "      <td>23.59</td>\n",
       "      <td>1364.0</td>\n",
       "      <td>67.10</td>\n",
       "      <td>5.0</td>\n",
       "    </tr>\n",
       "    <tr>\n",
       "      <th>9</th>\n",
       "      <td>Ford Figo Diesel Celebration Edition</td>\n",
       "      <td>Ford</td>\n",
       "      <td>2013</td>\n",
       "      <td>200000</td>\n",
       "      <td>169000</td>\n",
       "      <td>Diesel</td>\n",
       "      <td>Individual</td>\n",
       "      <td>Manual</td>\n",
       "      <td>First Owner</td>\n",
       "      <td>20.00</td>\n",
       "      <td>1399.0</td>\n",
       "      <td>68.10</td>\n",
       "      <td>5.0</td>\n",
       "    </tr>\n",
       "  </tbody>\n",
       "</table>\n",
       "</div>"
      ],
      "text/plain": [
       "                                   name Company name  year  selling_price  \\\n",
       "0                Maruti Swift Dzire VDI       Maruti  2014         450000   \n",
       "1          Skoda Rapid 1.5 TDI Ambition        Skoda  2014         370000   \n",
       "2              Honda City 2017-2020 EXi        Honda  2006         158000   \n",
       "3             Hyundai i20 Sportz Diesel      Hyundai  2010         225000   \n",
       "4                Maruti Swift VXI BSIII       Maruti  2007         130000   \n",
       "5         Hyundai Xcent 1.2 VTVT E Plus      Hyundai  2017         440000   \n",
       "6          Maruti Wagon R LXI DUO BSIII       Maruti  2007          96000   \n",
       "7                    Maruti 800 DX BSII       Maruti  2001          45000   \n",
       "8                      Toyota Etios VXD       Toyota  2011         350000   \n",
       "9  Ford Figo Diesel Celebration Edition         Ford  2013         200000   \n",
       "\n",
       "   km_driven    fuel seller_type transmission         owner  mileage  engine  \\\n",
       "0     145500  Diesel  Individual       Manual   First Owner    23.40  1248.0   \n",
       "1     120000  Diesel  Individual       Manual  Second Owner    21.14  1498.0   \n",
       "2     140000  Petrol  Individual       Manual   Third Owner    17.70  1497.0   \n",
       "3     127000  Diesel  Individual       Manual   First Owner    23.00  1396.0   \n",
       "4     120000  Petrol  Individual       Manual   First Owner    16.10  1298.0   \n",
       "5      45000  Petrol  Individual       Manual   First Owner    20.14  1197.0   \n",
       "6     175000     LPG  Individual       Manual   First Owner    17.30  1061.0   \n",
       "7       5000  Petrol  Individual       Manual  Second Owner    16.10   796.0   \n",
       "8      90000  Diesel  Individual       Manual   First Owner    23.59  1364.0   \n",
       "9     169000  Diesel  Individual       Manual   First Owner    20.00  1399.0   \n",
       "\n",
       "   max_power  seats  \n",
       "0      74.00    5.0  \n",
       "1     103.52    5.0  \n",
       "2      78.00    5.0  \n",
       "3      90.00    5.0  \n",
       "4      88.20    5.0  \n",
       "5      81.86    5.0  \n",
       "6      57.50    5.0  \n",
       "7      37.00    4.0  \n",
       "8      67.10    5.0  \n",
       "9      68.10    5.0  "
      ]
     },
     "execution_count": 19,
     "metadata": {},
     "output_type": "execute_result"
    }
   ],
   "source": [
    "df.head(10)"
   ]
  },
  {
   "cell_type": "code",
   "execution_count": 20,
   "id": "b1ead732",
   "metadata": {},
   "outputs": [
    {
     "name": "stdout",
     "output_type": "stream",
     "text": [
      "<class 'pandas.core.frame.DataFrame'>\n",
      "RangeIndex: 6926 entries, 0 to 6925\n",
      "Data columns (total 13 columns):\n",
      " #   Column         Non-Null Count  Dtype  \n",
      "---  ------         --------------  -----  \n",
      " 0   name           6926 non-null   object \n",
      " 1   Company name   6926 non-null   object \n",
      " 2   year           6926 non-null   int64  \n",
      " 3   selling_price  6926 non-null   int64  \n",
      " 4   km_driven      6926 non-null   int64  \n",
      " 5   fuel           6926 non-null   object \n",
      " 6   seller_type    6926 non-null   object \n",
      " 7   transmission   6926 non-null   object \n",
      " 8   owner          6926 non-null   object \n",
      " 9   mileage        6718 non-null   float64\n",
      " 10  engine         6718 non-null   float64\n",
      " 11  max_power      6720 non-null   float64\n",
      " 12  seats          6718 non-null   float64\n",
      "dtypes: float64(4), int64(3), object(6)\n",
      "memory usage: 703.5+ KB\n"
     ]
    }
   ],
   "source": [
    "df.info()"
   ]
  },
  {
   "cell_type": "raw",
   "id": "c2bc5cbf",
   "metadata": {},
   "source": [
    "Finding the percentage for Null Values"
   ]
  },
  {
   "cell_type": "code",
   "execution_count": 21,
   "id": "0a30556a",
   "metadata": {},
   "outputs": [
    {
     "data": {
      "text/plain": [
       "name             0.000000\n",
       "Company name     0.000000\n",
       "year             0.000000\n",
       "selling_price    0.000000\n",
       "km_driven        0.000000\n",
       "fuel             0.000000\n",
       "seller_type      0.000000\n",
       "transmission     0.000000\n",
       "owner            0.000000\n",
       "mileage          3.003176\n",
       "engine           3.003176\n",
       "max_power        2.974300\n",
       "seats            3.003176\n",
       "dtype: float64"
      ]
     },
     "execution_count": 21,
     "metadata": {},
     "output_type": "execute_result"
    }
   ],
   "source": [
    "percent_missing = df.isnull().sum() * 100 / len(df)\n",
    "percent_missing "
   ]
  },
  {
   "cell_type": "markdown",
   "id": "5d1a8304",
   "metadata": {},
   "source": [
    "**We are getting null values in 4 varibles and it is only three percent so we decide to drop null values for further analysis**"
   ]
  },
  {
   "cell_type": "code",
   "execution_count": 22,
   "id": "f6a17932",
   "metadata": {},
   "outputs": [],
   "source": [
    "df1 = df.dropna()"
   ]
  },
  {
   "cell_type": "code",
   "execution_count": 23,
   "id": "b0ad43e0",
   "metadata": {},
   "outputs": [
    {
     "data": {
      "text/html": [
       "<div>\n",
       "<style scoped>\n",
       "    .dataframe tbody tr th:only-of-type {\n",
       "        vertical-align: middle;\n",
       "    }\n",
       "\n",
       "    .dataframe tbody tr th {\n",
       "        vertical-align: top;\n",
       "    }\n",
       "\n",
       "    .dataframe thead th {\n",
       "        text-align: right;\n",
       "    }\n",
       "</style>\n",
       "<table border=\"1\" class=\"dataframe\">\n",
       "  <thead>\n",
       "    <tr style=\"text-align: right;\">\n",
       "      <th></th>\n",
       "      <th>name</th>\n",
       "      <th>Company name</th>\n",
       "      <th>year</th>\n",
       "      <th>selling_price</th>\n",
       "      <th>km_driven</th>\n",
       "      <th>fuel</th>\n",
       "      <th>seller_type</th>\n",
       "      <th>transmission</th>\n",
       "      <th>owner</th>\n",
       "      <th>mileage</th>\n",
       "      <th>engine</th>\n",
       "      <th>max_power</th>\n",
       "      <th>seats</th>\n",
       "    </tr>\n",
       "  </thead>\n",
       "  <tbody>\n",
       "    <tr>\n",
       "      <th>0</th>\n",
       "      <td>Maruti Swift Dzire VDI</td>\n",
       "      <td>Maruti</td>\n",
       "      <td>2014</td>\n",
       "      <td>450000</td>\n",
       "      <td>145500</td>\n",
       "      <td>Diesel</td>\n",
       "      <td>Individual</td>\n",
       "      <td>Manual</td>\n",
       "      <td>First Owner</td>\n",
       "      <td>23.40</td>\n",
       "      <td>1248.0</td>\n",
       "      <td>74.00</td>\n",
       "      <td>5.0</td>\n",
       "    </tr>\n",
       "    <tr>\n",
       "      <th>1</th>\n",
       "      <td>Skoda Rapid 1.5 TDI Ambition</td>\n",
       "      <td>Skoda</td>\n",
       "      <td>2014</td>\n",
       "      <td>370000</td>\n",
       "      <td>120000</td>\n",
       "      <td>Diesel</td>\n",
       "      <td>Individual</td>\n",
       "      <td>Manual</td>\n",
       "      <td>Second Owner</td>\n",
       "      <td>21.14</td>\n",
       "      <td>1498.0</td>\n",
       "      <td>103.52</td>\n",
       "      <td>5.0</td>\n",
       "    </tr>\n",
       "    <tr>\n",
       "      <th>2</th>\n",
       "      <td>Honda City 2017-2020 EXi</td>\n",
       "      <td>Honda</td>\n",
       "      <td>2006</td>\n",
       "      <td>158000</td>\n",
       "      <td>140000</td>\n",
       "      <td>Petrol</td>\n",
       "      <td>Individual</td>\n",
       "      <td>Manual</td>\n",
       "      <td>Third Owner</td>\n",
       "      <td>17.70</td>\n",
       "      <td>1497.0</td>\n",
       "      <td>78.00</td>\n",
       "      <td>5.0</td>\n",
       "    </tr>\n",
       "    <tr>\n",
       "      <th>3</th>\n",
       "      <td>Hyundai i20 Sportz Diesel</td>\n",
       "      <td>Hyundai</td>\n",
       "      <td>2010</td>\n",
       "      <td>225000</td>\n",
       "      <td>127000</td>\n",
       "      <td>Diesel</td>\n",
       "      <td>Individual</td>\n",
       "      <td>Manual</td>\n",
       "      <td>First Owner</td>\n",
       "      <td>23.00</td>\n",
       "      <td>1396.0</td>\n",
       "      <td>90.00</td>\n",
       "      <td>5.0</td>\n",
       "    </tr>\n",
       "    <tr>\n",
       "      <th>4</th>\n",
       "      <td>Maruti Swift VXI BSIII</td>\n",
       "      <td>Maruti</td>\n",
       "      <td>2007</td>\n",
       "      <td>130000</td>\n",
       "      <td>120000</td>\n",
       "      <td>Petrol</td>\n",
       "      <td>Individual</td>\n",
       "      <td>Manual</td>\n",
       "      <td>First Owner</td>\n",
       "      <td>16.10</td>\n",
       "      <td>1298.0</td>\n",
       "      <td>88.20</td>\n",
       "      <td>5.0</td>\n",
       "    </tr>\n",
       "    <tr>\n",
       "      <th>...</th>\n",
       "      <td>...</td>\n",
       "      <td>...</td>\n",
       "      <td>...</td>\n",
       "      <td>...</td>\n",
       "      <td>...</td>\n",
       "      <td>...</td>\n",
       "      <td>...</td>\n",
       "      <td>...</td>\n",
       "      <td>...</td>\n",
       "      <td>...</td>\n",
       "      <td>...</td>\n",
       "      <td>...</td>\n",
       "      <td>...</td>\n",
       "    </tr>\n",
       "    <tr>\n",
       "      <th>6921</th>\n",
       "      <td>Maruti Wagon R VXI BS IV with ABS</td>\n",
       "      <td>Maruti</td>\n",
       "      <td>2013</td>\n",
       "      <td>260000</td>\n",
       "      <td>50000</td>\n",
       "      <td>Petrol</td>\n",
       "      <td>Individual</td>\n",
       "      <td>Manual</td>\n",
       "      <td>Second Owner</td>\n",
       "      <td>18.90</td>\n",
       "      <td>998.0</td>\n",
       "      <td>67.10</td>\n",
       "      <td>5.0</td>\n",
       "    </tr>\n",
       "    <tr>\n",
       "      <th>6922</th>\n",
       "      <td>Hyundai i20 Magna 1.4 CRDi</td>\n",
       "      <td>Hyundai</td>\n",
       "      <td>2014</td>\n",
       "      <td>475000</td>\n",
       "      <td>80000</td>\n",
       "      <td>Diesel</td>\n",
       "      <td>Individual</td>\n",
       "      <td>Manual</td>\n",
       "      <td>Second Owner</td>\n",
       "      <td>22.54</td>\n",
       "      <td>1396.0</td>\n",
       "      <td>88.73</td>\n",
       "      <td>5.0</td>\n",
       "    </tr>\n",
       "    <tr>\n",
       "      <th>6923</th>\n",
       "      <td>Hyundai i20 Magna</td>\n",
       "      <td>Hyundai</td>\n",
       "      <td>2013</td>\n",
       "      <td>320000</td>\n",
       "      <td>110000</td>\n",
       "      <td>Petrol</td>\n",
       "      <td>Individual</td>\n",
       "      <td>Manual</td>\n",
       "      <td>First Owner</td>\n",
       "      <td>18.50</td>\n",
       "      <td>1197.0</td>\n",
       "      <td>82.85</td>\n",
       "      <td>5.0</td>\n",
       "    </tr>\n",
       "    <tr>\n",
       "      <th>6924</th>\n",
       "      <td>Hyundai Verna CRDi SX</td>\n",
       "      <td>Hyundai</td>\n",
       "      <td>2007</td>\n",
       "      <td>135000</td>\n",
       "      <td>119000</td>\n",
       "      <td>Diesel</td>\n",
       "      <td>Individual</td>\n",
       "      <td>Manual</td>\n",
       "      <td>Fourth &amp; Above Owner</td>\n",
       "      <td>16.80</td>\n",
       "      <td>1493.0</td>\n",
       "      <td>110.00</td>\n",
       "      <td>5.0</td>\n",
       "    </tr>\n",
       "    <tr>\n",
       "      <th>6925</th>\n",
       "      <td>Maruti Swift Dzire ZDi</td>\n",
       "      <td>Maruti</td>\n",
       "      <td>2009</td>\n",
       "      <td>382000</td>\n",
       "      <td>120000</td>\n",
       "      <td>Diesel</td>\n",
       "      <td>Individual</td>\n",
       "      <td>Manual</td>\n",
       "      <td>First Owner</td>\n",
       "      <td>19.30</td>\n",
       "      <td>1248.0</td>\n",
       "      <td>73.90</td>\n",
       "      <td>5.0</td>\n",
       "    </tr>\n",
       "  </tbody>\n",
       "</table>\n",
       "<p>6717 rows × 13 columns</p>\n",
       "</div>"
      ],
      "text/plain": [
       "                                   name Company name  year  selling_price  \\\n",
       "0                Maruti Swift Dzire VDI       Maruti  2014         450000   \n",
       "1          Skoda Rapid 1.5 TDI Ambition        Skoda  2014         370000   \n",
       "2              Honda City 2017-2020 EXi        Honda  2006         158000   \n",
       "3             Hyundai i20 Sportz Diesel      Hyundai  2010         225000   \n",
       "4                Maruti Swift VXI BSIII       Maruti  2007         130000   \n",
       "...                                 ...          ...   ...            ...   \n",
       "6921  Maruti Wagon R VXI BS IV with ABS       Maruti  2013         260000   \n",
       "6922         Hyundai i20 Magna 1.4 CRDi      Hyundai  2014         475000   \n",
       "6923                  Hyundai i20 Magna      Hyundai  2013         320000   \n",
       "6924              Hyundai Verna CRDi SX      Hyundai  2007         135000   \n",
       "6925             Maruti Swift Dzire ZDi       Maruti  2009         382000   \n",
       "\n",
       "      km_driven    fuel seller_type transmission                 owner  \\\n",
       "0        145500  Diesel  Individual       Manual           First Owner   \n",
       "1        120000  Diesel  Individual       Manual          Second Owner   \n",
       "2        140000  Petrol  Individual       Manual           Third Owner   \n",
       "3        127000  Diesel  Individual       Manual           First Owner   \n",
       "4        120000  Petrol  Individual       Manual           First Owner   \n",
       "...         ...     ...         ...          ...                   ...   \n",
       "6921      50000  Petrol  Individual       Manual          Second Owner   \n",
       "6922      80000  Diesel  Individual       Manual          Second Owner   \n",
       "6923     110000  Petrol  Individual       Manual           First Owner   \n",
       "6924     119000  Diesel  Individual       Manual  Fourth & Above Owner   \n",
       "6925     120000  Diesel  Individual       Manual           First Owner   \n",
       "\n",
       "      mileage  engine  max_power  seats  \n",
       "0       23.40  1248.0      74.00    5.0  \n",
       "1       21.14  1498.0     103.52    5.0  \n",
       "2       17.70  1497.0      78.00    5.0  \n",
       "3       23.00  1396.0      90.00    5.0  \n",
       "4       16.10  1298.0      88.20    5.0  \n",
       "...       ...     ...        ...    ...  \n",
       "6921    18.90   998.0      67.10    5.0  \n",
       "6922    22.54  1396.0      88.73    5.0  \n",
       "6923    18.50  1197.0      82.85    5.0  \n",
       "6924    16.80  1493.0     110.00    5.0  \n",
       "6925    19.30  1248.0      73.90    5.0  \n",
       "\n",
       "[6717 rows x 13 columns]"
      ]
     },
     "execution_count": 23,
     "metadata": {},
     "output_type": "execute_result"
    }
   ],
   "source": [
    "df1"
   ]
  },
  {
   "cell_type": "markdown",
   "id": "663b9ba9",
   "metadata": {},
   "source": [
    "#### Converting to integer from float"
   ]
  },
  {
   "cell_type": "code",
   "execution_count": 24,
   "id": "1fbad5a0",
   "metadata": {},
   "outputs": [],
   "source": [
    "df1['seats'] = df1['seats'].astype(int)"
   ]
  },
  {
   "cell_type": "markdown",
   "id": "23a36557",
   "metadata": {},
   "source": [
    "#### Check unique values "
   ]
  },
  {
   "cell_type": "code",
   "execution_count": 25,
   "id": "2ddfa141",
   "metadata": {
    "scrolled": true
   },
   "outputs": [
    {
     "data": {
      "text/plain": [
       "array(['First Owner', 'Second Owner', 'Third Owner',\n",
       "       'Fourth & Above Owner', 'Test Drive Car'], dtype=object)"
      ]
     },
     "execution_count": 25,
     "metadata": {},
     "output_type": "execute_result"
    }
   ],
   "source": [
    "df1['owner'].unique()"
   ]
  },
  {
   "cell_type": "code",
   "execution_count": 26,
   "id": "681f8a9e",
   "metadata": {},
   "outputs": [
    {
     "data": {
      "text/plain": [
       "array(['Manual', 'Automatic'], dtype=object)"
      ]
     },
     "execution_count": 26,
     "metadata": {},
     "output_type": "execute_result"
    }
   ],
   "source": [
    "df1['transmission'].unique()"
   ]
  },
  {
   "cell_type": "code",
   "execution_count": 27,
   "id": "987305ed",
   "metadata": {},
   "outputs": [
    {
     "data": {
      "text/plain": [
       "array([2014, 2006, 2010, 2007, 2017, 2001, 2011, 2013, 2005, 2009, 2016,\n",
       "       2012, 2002, 2015, 2018, 2019, 2008, 2020, 1999, 2000, 2003, 2004,\n",
       "       1994, 1998, 1997, 1995, 1996])"
      ]
     },
     "execution_count": 27,
     "metadata": {},
     "output_type": "execute_result"
    }
   ],
   "source": [
    "df1['year'].unique()"
   ]
  },
  {
   "cell_type": "code",
   "execution_count": 28,
   "id": "af4bfc7d",
   "metadata": {},
   "outputs": [
    {
     "data": {
      "text/plain": [
       "array(['Diesel', 'Petrol', 'LPG', 'CNG'], dtype=object)"
      ]
     },
     "execution_count": 28,
     "metadata": {},
     "output_type": "execute_result"
    }
   ],
   "source": [
    "df1['fuel'].unique()"
   ]
  },
  {
   "cell_type": "code",
   "execution_count": 29,
   "id": "e3bed7aa",
   "metadata": {},
   "outputs": [
    {
     "data": {
      "text/plain": [
       "array([ 5,  4,  7,  8,  6,  9, 10, 14,  2])"
      ]
     },
     "execution_count": 29,
     "metadata": {},
     "output_type": "execute_result"
    }
   ],
   "source": [
    "df1['seats'].unique()"
   ]
  },
  {
   "cell_type": "markdown",
   "id": "2a0f4dc5",
   "metadata": {},
   "source": [
    "**Checking unique values for any inconsistency available in categorical variables**"
   ]
  },
  {
   "cell_type": "code",
   "execution_count": 30,
   "id": "073d56e0",
   "metadata": {},
   "outputs": [],
   "source": [
    "df1['Age_of_car']=2022-df1['year']"
   ]
  },
  {
   "cell_type": "markdown",
   "id": "3995fecc",
   "metadata": {},
   "source": [
    "Creating new column to calculate the Number of years of the car"
   ]
  },
  {
   "cell_type": "code",
   "execution_count": 31,
   "id": "25711543",
   "metadata": {
    "scrolled": true
   },
   "outputs": [
    {
     "data": {
      "text/html": [
       "<div>\n",
       "<style scoped>\n",
       "    .dataframe tbody tr th:only-of-type {\n",
       "        vertical-align: middle;\n",
       "    }\n",
       "\n",
       "    .dataframe tbody tr th {\n",
       "        vertical-align: top;\n",
       "    }\n",
       "\n",
       "    .dataframe thead th {\n",
       "        text-align: right;\n",
       "    }\n",
       "</style>\n",
       "<table border=\"1\" class=\"dataframe\">\n",
       "  <thead>\n",
       "    <tr style=\"text-align: right;\">\n",
       "      <th></th>\n",
       "      <th>name</th>\n",
       "      <th>Company name</th>\n",
       "      <th>year</th>\n",
       "      <th>selling_price</th>\n",
       "      <th>km_driven</th>\n",
       "      <th>fuel</th>\n",
       "      <th>seller_type</th>\n",
       "      <th>transmission</th>\n",
       "      <th>owner</th>\n",
       "      <th>mileage</th>\n",
       "      <th>engine</th>\n",
       "      <th>max_power</th>\n",
       "      <th>seats</th>\n",
       "      <th>Age_of_car</th>\n",
       "    </tr>\n",
       "  </thead>\n",
       "  <tbody>\n",
       "    <tr>\n",
       "      <th>0</th>\n",
       "      <td>Maruti Swift Dzire VDI</td>\n",
       "      <td>Maruti</td>\n",
       "      <td>2014</td>\n",
       "      <td>450000</td>\n",
       "      <td>145500</td>\n",
       "      <td>Diesel</td>\n",
       "      <td>Individual</td>\n",
       "      <td>Manual</td>\n",
       "      <td>First Owner</td>\n",
       "      <td>23.40</td>\n",
       "      <td>1248.0</td>\n",
       "      <td>74.00</td>\n",
       "      <td>5</td>\n",
       "      <td>8</td>\n",
       "    </tr>\n",
       "    <tr>\n",
       "      <th>1</th>\n",
       "      <td>Skoda Rapid 1.5 TDI Ambition</td>\n",
       "      <td>Skoda</td>\n",
       "      <td>2014</td>\n",
       "      <td>370000</td>\n",
       "      <td>120000</td>\n",
       "      <td>Diesel</td>\n",
       "      <td>Individual</td>\n",
       "      <td>Manual</td>\n",
       "      <td>Second Owner</td>\n",
       "      <td>21.14</td>\n",
       "      <td>1498.0</td>\n",
       "      <td>103.52</td>\n",
       "      <td>5</td>\n",
       "      <td>8</td>\n",
       "    </tr>\n",
       "    <tr>\n",
       "      <th>2</th>\n",
       "      <td>Honda City 2017-2020 EXi</td>\n",
       "      <td>Honda</td>\n",
       "      <td>2006</td>\n",
       "      <td>158000</td>\n",
       "      <td>140000</td>\n",
       "      <td>Petrol</td>\n",
       "      <td>Individual</td>\n",
       "      <td>Manual</td>\n",
       "      <td>Third Owner</td>\n",
       "      <td>17.70</td>\n",
       "      <td>1497.0</td>\n",
       "      <td>78.00</td>\n",
       "      <td>5</td>\n",
       "      <td>16</td>\n",
       "    </tr>\n",
       "    <tr>\n",
       "      <th>3</th>\n",
       "      <td>Hyundai i20 Sportz Diesel</td>\n",
       "      <td>Hyundai</td>\n",
       "      <td>2010</td>\n",
       "      <td>225000</td>\n",
       "      <td>127000</td>\n",
       "      <td>Diesel</td>\n",
       "      <td>Individual</td>\n",
       "      <td>Manual</td>\n",
       "      <td>First Owner</td>\n",
       "      <td>23.00</td>\n",
       "      <td>1396.0</td>\n",
       "      <td>90.00</td>\n",
       "      <td>5</td>\n",
       "      <td>12</td>\n",
       "    </tr>\n",
       "    <tr>\n",
       "      <th>4</th>\n",
       "      <td>Maruti Swift VXI BSIII</td>\n",
       "      <td>Maruti</td>\n",
       "      <td>2007</td>\n",
       "      <td>130000</td>\n",
       "      <td>120000</td>\n",
       "      <td>Petrol</td>\n",
       "      <td>Individual</td>\n",
       "      <td>Manual</td>\n",
       "      <td>First Owner</td>\n",
       "      <td>16.10</td>\n",
       "      <td>1298.0</td>\n",
       "      <td>88.20</td>\n",
       "      <td>5</td>\n",
       "      <td>15</td>\n",
       "    </tr>\n",
       "  </tbody>\n",
       "</table>\n",
       "</div>"
      ],
      "text/plain": [
       "                           name Company name  year  selling_price  km_driven  \\\n",
       "0        Maruti Swift Dzire VDI       Maruti  2014         450000     145500   \n",
       "1  Skoda Rapid 1.5 TDI Ambition        Skoda  2014         370000     120000   \n",
       "2      Honda City 2017-2020 EXi        Honda  2006         158000     140000   \n",
       "3     Hyundai i20 Sportz Diesel      Hyundai  2010         225000     127000   \n",
       "4        Maruti Swift VXI BSIII       Maruti  2007         130000     120000   \n",
       "\n",
       "     fuel seller_type transmission         owner  mileage  engine  max_power  \\\n",
       "0  Diesel  Individual       Manual   First Owner    23.40  1248.0      74.00   \n",
       "1  Diesel  Individual       Manual  Second Owner    21.14  1498.0     103.52   \n",
       "2  Petrol  Individual       Manual   Third Owner    17.70  1497.0      78.00   \n",
       "3  Diesel  Individual       Manual   First Owner    23.00  1396.0      90.00   \n",
       "4  Petrol  Individual       Manual   First Owner    16.10  1298.0      88.20   \n",
       "\n",
       "   seats  Age_of_car  \n",
       "0      5           8  \n",
       "1      5           8  \n",
       "2      5          16  \n",
       "3      5          12  \n",
       "4      5          15  "
      ]
     },
     "execution_count": 31,
     "metadata": {},
     "output_type": "execute_result"
    }
   ],
   "source": [
    "df1.head()"
   ]
  },
  {
   "cell_type": "markdown",
   "id": "4b4b6b03",
   "metadata": {},
   "source": [
    "## Exploratory Data Analysis"
   ]
  },
  {
   "cell_type": "code",
   "execution_count": 32,
   "id": "50c92358",
   "metadata": {
    "scrolled": false
   },
   "outputs": [
    {
     "data": {
      "image/png": "[encoded data removed]",
      "text/plain": [
       "<Figure size 720x576 with 1 Axes>"
      ]
     },
     "metadata": {
      "needs_background": "light"
     },
     "output_type": "display_data"
    }
   ],
   "source": [
    "plt.figure(figsize=(10,8))\n",
    "sns.countplot(df1['Company name'])\n",
    "plt.xticks(rotation=90,color='black',size=12)\n",
    "plt.title('No. of cars according to company',size=20,color='black')\n",
    "plt.show()"
   ]
  },
  {
   "cell_type": "markdown",
   "id": "9720a6e6",
   "metadata": {},
   "source": [
    "**1. Most of the cars owned by the people are of Maruti, Hyundai, Mahindra, Tata**"
   ]
  },
  {
   "cell_type": "code",
   "execution_count": 33,
   "id": "1d71e83a",
   "metadata": {},
   "outputs": [
    {
     "data": {
      "image/png": "[encoded data removed]",
      "text/plain": [
       "<Figure size 720x432 with 1 Axes>"
      ]
     },
     "metadata": {
      "needs_background": "light"
     },
     "output_type": "display_data"
    }
   ],
   "source": [
    "plt.figure(figsize=(10,6))\n",
    "sns.countplot(df1.year)\n",
    "plt.xticks(rotation=90,color='black',size=12)\n",
    "plt.title('No. of cars Count according to year',size=20,color='black')\n",
    "plt.show()"
   ]
  },
  {
   "cell_type": "markdown",
   "id": "1488ac30",
   "metadata": {},
   "source": [
    "**Maximum listed cars are from year 2010 to 2019**"
   ]
  },
  {
   "cell_type": "code",
   "execution_count": 34,
   "id": "d009c162",
   "metadata": {},
   "outputs": [
    {
     "data": {
      "image/png": "[encoded data removed]",
      "text/plain": [
       "<Figure size 576x360 with 1 Axes>"
      ]
     },
     "metadata": {
      "needs_background": "light"
     },
     "output_type": "display_data"
    }
   ],
   "source": [
    "plt.figure(figsize=(8,5))\n",
    "sns.countplot(df1.fuel,palette = \"Set2\")\n",
    "plt.xticks(rotation=0,color='black',size=15)\n",
    "plt.title('No. of cars according to Fuel_type',size=20,color='black')\n",
    "plt.xlabel('Fuel Type',size = 15)\n",
    "plt.ylabel('Count',size = 15)\n",
    "plt.show()"
   ]
  },
  {
   "cell_type": "markdown",
   "id": "1bbc0a9a",
   "metadata": {},
   "source": [
    "#### We can see that\n",
    "\n",
    "**1. Most of the cars owned by the people are of diesel and petrol Type.**\n",
    "\n",
    "**2. People are buying more diesel Cars then petrol Lpg and CNG.**"
   ]
  },
  {
   "cell_type": "code",
   "execution_count": 35,
   "id": "94f6f6a0",
   "metadata": {},
   "outputs": [
    {
     "data": {
      "image/png": "[encoded data removed]",
      "text/plain": [
       "<Figure size 576x360 with 1 Axes>"
      ]
     },
     "metadata": {
      "needs_background": "light"
     },
     "output_type": "display_data"
    }
   ],
   "source": [
    "plt.figure(figsize=(8,5))\n",
    "sns.countplot(df1.seller_type,palette = \"Set3\")\n",
    "plt.xticks(rotation=0,color='black',size=15)\n",
    "plt.title('Seller Type',size=20,color='g')\n",
    "plt.xlabel('Seller_type',size = 15,color='tomato')\n",
    "plt.ylabel('Count',size = 15,color='tomato')\n",
    "plt.show()"
   ]
  },
  {
   "cell_type": "markdown",
   "id": "dd4e315a",
   "metadata": {},
   "source": [
    "**Most of the seller type is Individual only.**\n",
    "\n",
    "**Dealers are also coming up with the help of the online marketplace.**\n"
   ]
  },
  {
   "cell_type": "code",
   "execution_count": 36,
   "id": "980a05cd",
   "metadata": {},
   "outputs": [
    {
     "data": {
      "image/png": "[encoded data removed]",
      "text/plain": [
       "<Figure size 576x360 with 1 Axes>"
      ]
     },
     "metadata": {
      "needs_background": "light"
     },
     "output_type": "display_data"
    }
   ],
   "source": [
    "plt.figure(figsize=(8,5))\n",
    "sns.countplot(df1.transmission,palette = \"rocket_r\")\n",
    "plt.xticks(rotation=0,color='black',size=15)\n",
    "plt.title('Car Type',size=20,color='g')\n",
    "plt.xlabel('Car Type',size = 15,color='tomato')\n",
    "plt.ylabel('Count',size = 15,color='tomato')\n",
    "plt.show()"
   ]
  },
  {
   "cell_type": "markdown",
   "id": "37dcdf47",
   "metadata": {},
   "source": [
    "**Most of people owned the manual vehicle instead of Automatic**"
   ]
  },
  {
   "cell_type": "code",
   "execution_count": 37,
   "id": "f52735ad",
   "metadata": {},
   "outputs": [],
   "source": [
    "import textwrap\n",
    "def wrap_labels(ax, width, break_long_words=False):\n",
    "    labels = []\n",
    "    for label in ax.get_xticklabels():\n",
    "        text = label.get_text()\n",
    "        labels.append(textwrap.fill(text, width=width,\n",
    "                      break_long_words=break_long_words))\n",
    "    ax.set_xticklabels(labels, rotation=0)"
   ]
  },
  {
   "cell_type": "code",
   "execution_count": 38,
   "id": "a778fa6f",
   "metadata": {},
   "outputs": [
    {
     "data": {
      "image/png": "[encoded data removed]",
      "text/plain": [
       "<Figure size 864x576 with 1 Axes>"
      ]
     },
     "metadata": {
      "needs_background": "light"
     },
     "output_type": "display_data"
    }
   ],
   "source": [
    "plt.figure(figsize=(12,8))\n",
    "ax = sns.countplot(df1.owner,palette = \"rocket_r\")\n",
    "plt.xticks(rotation=90,color='black',size=15)\n",
    "plt.title('Owner',size=20,color='g')\n",
    "plt.xlabel('owner',size = 15,color='tomato')\n",
    "plt.ylabel('Count',size = 15,color='tomato')\n",
    "wrap_labels(ax, 13)\n"
   ]
  },
  {
   "cell_type": "markdown",
   "id": "ca3c2bbd",
   "metadata": {},
   "source": [
    "**Most of the cars are owned by the first owner.**\n",
    "\n",
    "**Second-hand cars are less in number.**"
   ]
  },
  {
   "cell_type": "code",
   "execution_count": 39,
   "id": "330063cd",
   "metadata": {
    "scrolled": false
   },
   "outputs": [
    {
     "data": {
      "image/png": "[encoded data removed]",
      "text/plain": [
       "<Figure size 576x432 with 1 Axes>"
      ]
     },
     "metadata": {
      "needs_background": "light"
     },
     "output_type": "display_data"
    }
   ],
   "source": [
    "plt.figure(figsize=(8,6))\n",
    "sns.barplot(x = 'fuel',y = 'selling_price', data = df1)\n",
    "# plt.title('Owner',size=20,color='g')\n",
    "plt.xlabel('Fuel type',size = 15,color='tomato')\n",
    "plt.ylabel('selling price',size = 15,color='tomato')\n",
    "plt.show()"
   ]
  },
  {
   "cell_type": "markdown",
   "id": "2a025167",
   "metadata": {},
   "source": [
    "**Cost of diesel cars are high compare to Petrol LPG and CNG cars**\n",
    "\n",
    "**LPG cars are cheaper than other fuel options**"
   ]
  },
  {
   "cell_type": "code",
   "execution_count": 40,
   "id": "8ea4ad85",
   "metadata": {
    "scrolled": false
   },
   "outputs": [
    {
     "data": {
      "image/png": "[encoded data removed]",
      "text/plain": [
       "<Figure size 1080x576 with 1 Axes>"
      ]
     },
     "metadata": {
      "needs_background": "light"
     },
     "output_type": "display_data"
    }
   ],
   "source": [
    "plt.figure(figsize=(15,8))\n",
    "sns.barplot(x = 'year',y = 'selling_price', data = df)\n",
    "plt.title('Selling price vs year',size=20,color='g')\n",
    "plt.xlabel('year',size = 15,color='tomato')\n",
    "plt.ylabel('selling price',size = 15,color='tomato')\n",
    "plt.show()"
   ]
  },
  {
   "cell_type": "markdown",
   "id": "71a4d977",
   "metadata": {},
   "source": [
    "**Car is newer price is higher**\n",
    "\n",
    "**Car is older price is less**"
   ]
  },
  {
   "cell_type": "code",
   "execution_count": 41,
   "id": "4299a20b",
   "metadata": {
    "scrolled": false
   },
   "outputs": [
    {
     "name": "stdout",
     "output_type": "stream",
     "text": [
      "<class 'pandas.core.frame.DataFrame'>\n",
      "Int64Index: 6717 entries, 0 to 6925\n",
      "Data columns (total 14 columns):\n",
      " #   Column         Non-Null Count  Dtype  \n",
      "---  ------         --------------  -----  \n",
      " 0   name           6717 non-null   object \n",
      " 1   Company name   6717 non-null   object \n",
      " 2   year           6717 non-null   int64  \n",
      " 3   selling_price  6717 non-null   int64  \n",
      " 4   km_driven      6717 non-null   int64  \n",
      " 5   fuel           6717 non-null   object \n",
      " 6   seller_type    6717 non-null   object \n",
      " 7   transmission   6717 non-null   object \n",
      " 8   owner          6717 non-null   object \n",
      " 9   mileage        6717 non-null   float64\n",
      " 10  engine         6717 non-null   float64\n",
      " 11  max_power      6717 non-null   float64\n",
      " 12  seats          6717 non-null   int64  \n",
      " 13  Age_of_car     6717 non-null   int64  \n",
      "dtypes: float64(3), int64(5), object(6)\n",
      "memory usage: 1.0+ MB\n"
     ]
    }
   ],
   "source": [
    "df1.info()"
   ]
  },
  {
   "cell_type": "markdown",
   "id": "27ab5c84",
   "metadata": {},
   "source": [
    "**1. data has categorical and numerical features**\n",
    "\n",
    "\n",
    "**2. Now no null values In DATA**"
   ]
  },
  {
   "cell_type": "code",
   "execution_count": 42,
   "id": "81f2fcf5",
   "metadata": {},
   "outputs": [
    {
     "data": {
      "text/html": [
       "<div>\n",
       "<style scoped>\n",
       "    .dataframe tbody tr th:only-of-type {\n",
       "        vertical-align: middle;\n",
       "    }\n",
       "\n",
       "    .dataframe tbody tr th {\n",
       "        vertical-align: top;\n",
       "    }\n",
       "\n",
       "    .dataframe thead th {\n",
       "        text-align: right;\n",
       "    }\n",
       "</style>\n",
       "<table border=\"1\" class=\"dataframe\">\n",
       "  <thead>\n",
       "    <tr style=\"text-align: right;\">\n",
       "      <th></th>\n",
       "      <th>year</th>\n",
       "      <th>selling_price</th>\n",
       "      <th>km_driven</th>\n",
       "      <th>mileage</th>\n",
       "      <th>engine</th>\n",
       "      <th>max_power</th>\n",
       "      <th>seats</th>\n",
       "      <th>Age_of_car</th>\n",
       "    </tr>\n",
       "  </thead>\n",
       "  <tbody>\n",
       "    <tr>\n",
       "      <th>count</th>\n",
       "      <td>6717.000000</td>\n",
       "      <td>6.717000e+03</td>\n",
       "      <td>6.717000e+03</td>\n",
       "      <td>6717.000000</td>\n",
       "      <td>6717.000000</td>\n",
       "      <td>6717.000000</td>\n",
       "      <td>6717.000000</td>\n",
       "      <td>6717.000000</td>\n",
       "    </tr>\n",
       "    <tr>\n",
       "      <th>mean</th>\n",
       "      <td>2013.611136</td>\n",
       "      <td>5.263860e+05</td>\n",
       "      <td>7.339834e+04</td>\n",
       "      <td>19.466585</td>\n",
       "      <td>1430.985857</td>\n",
       "      <td>87.766100</td>\n",
       "      <td>5.434271</td>\n",
       "      <td>8.388864</td>\n",
       "    </tr>\n",
       "    <tr>\n",
       "      <th>std</th>\n",
       "      <td>3.897402</td>\n",
       "      <td>5.235504e+05</td>\n",
       "      <td>5.870328e+04</td>\n",
       "      <td>4.048102</td>\n",
       "      <td>493.469198</td>\n",
       "      <td>31.724555</td>\n",
       "      <td>0.983805</td>\n",
       "      <td>3.897402</td>\n",
       "    </tr>\n",
       "    <tr>\n",
       "      <th>min</th>\n",
       "      <td>1994.000000</td>\n",
       "      <td>2.999900e+04</td>\n",
       "      <td>1.000000e+00</td>\n",
       "      <td>0.000000</td>\n",
       "      <td>624.000000</td>\n",
       "      <td>32.800000</td>\n",
       "      <td>2.000000</td>\n",
       "      <td>2.000000</td>\n",
       "    </tr>\n",
       "    <tr>\n",
       "      <th>25%</th>\n",
       "      <td>2011.000000</td>\n",
       "      <td>2.500000e+05</td>\n",
       "      <td>3.800000e+04</td>\n",
       "      <td>16.800000</td>\n",
       "      <td>1197.000000</td>\n",
       "      <td>67.100000</td>\n",
       "      <td>5.000000</td>\n",
       "      <td>5.000000</td>\n",
       "    </tr>\n",
       "    <tr>\n",
       "      <th>50%</th>\n",
       "      <td>2014.000000</td>\n",
       "      <td>4.200000e+05</td>\n",
       "      <td>6.820300e+04</td>\n",
       "      <td>19.440000</td>\n",
       "      <td>1248.000000</td>\n",
       "      <td>81.830000</td>\n",
       "      <td>5.000000</td>\n",
       "      <td>8.000000</td>\n",
       "    </tr>\n",
       "    <tr>\n",
       "      <th>75%</th>\n",
       "      <td>2017.000000</td>\n",
       "      <td>6.500000e+05</td>\n",
       "      <td>1.000000e+05</td>\n",
       "      <td>22.500000</td>\n",
       "      <td>1498.000000</td>\n",
       "      <td>100.000000</td>\n",
       "      <td>5.000000</td>\n",
       "      <td>11.000000</td>\n",
       "    </tr>\n",
       "    <tr>\n",
       "      <th>max</th>\n",
       "      <td>2020.000000</td>\n",
       "      <td>1.000000e+07</td>\n",
       "      <td>2.360457e+06</td>\n",
       "      <td>42.000000</td>\n",
       "      <td>3604.000000</td>\n",
       "      <td>400.000000</td>\n",
       "      <td>14.000000</td>\n",
       "      <td>28.000000</td>\n",
       "    </tr>\n",
       "  </tbody>\n",
       "</table>\n",
       "</div>"
      ],
      "text/plain": [
       "              year  selling_price     km_driven      mileage       engine  \\\n",
       "count  6717.000000   6.717000e+03  6.717000e+03  6717.000000  6717.000000   \n",
       "mean   2013.611136   5.263860e+05  7.339834e+04    19.466585  1430.985857   \n",
       "std       3.897402   5.235504e+05  5.870328e+04     4.048102   493.469198   \n",
       "min    1994.000000   2.999900e+04  1.000000e+00     0.000000   624.000000   \n",
       "25%    2011.000000   2.500000e+05  3.800000e+04    16.800000  1197.000000   \n",
       "50%    2014.000000   4.200000e+05  6.820300e+04    19.440000  1248.000000   \n",
       "75%    2017.000000   6.500000e+05  1.000000e+05    22.500000  1498.000000   \n",
       "max    2020.000000   1.000000e+07  2.360457e+06    42.000000  3604.000000   \n",
       "\n",
       "         max_power        seats   Age_of_car  \n",
       "count  6717.000000  6717.000000  6717.000000  \n",
       "mean     87.766100     5.434271     8.388864  \n",
       "std      31.724555     0.983805     3.897402  \n",
       "min      32.800000     2.000000     2.000000  \n",
       "25%      67.100000     5.000000     5.000000  \n",
       "50%      81.830000     5.000000     8.000000  \n",
       "75%     100.000000     5.000000    11.000000  \n",
       "max     400.000000    14.000000    28.000000  "
      ]
     },
     "execution_count": 42,
     "metadata": {},
     "output_type": "execute_result"
    }
   ],
   "source": [
    "df1.describe()"
   ]
  },
  {
   "cell_type": "markdown",
   "id": "4dc33f6f",
   "metadata": {},
   "source": [
    "#### Key Observations -\n",
    "\n",
    "1. Mean value is less than median value of each column represented by 50%(50th percentile) in index column.\n",
    "\n",
    "\n",
    "2. large differnece in 75th %tile and max values of predictors \"selling_price\",\"max_power\",\"mileage\",\"seats\"\n",
    "\n",
    "**Thus observations 1 and 2 suggests that there are values-Outliers in our dataset**"
   ]
  },
  {
   "cell_type": "code",
   "execution_count": 43,
   "id": "9439873a",
   "metadata": {},
   "outputs": [
    {
     "data": {
      "image/png": "[encoded data removed]",
      "text/plain": [
       "<Figure size 864x1008 with 16 Axes>"
      ]
     },
     "metadata": {
      "needs_background": "light"
     },
     "output_type": "display_data"
    }
   ],
   "source": [
    "df1.plot(subplots=True, layout=(4,4), kind='box', figsize=(12,14), patch_artist=True)\n",
    "plt.subplots_adjust(wspace=0.5);"
   ]
  },
  {
   "cell_type": "markdown",
   "id": "1cc5323b",
   "metadata": {},
   "source": [
    "**Selling price shows the data like outlier but depends on car features and specification it would be higher or lower\n",
    "\n",
    "**The Kms_Driven shows that many of the data is Acting like an outlier.**\n",
    "\n",
    "**But with the Help of domain Knowledge, we can say that the Cars can we any Kms Driven as it is based on the Owner and the Selling price of that cars Adjust accordingly.**"
   ]
  },
  {
   "cell_type": "code",
   "execution_count": 44,
   "id": "365b65bf",
   "metadata": {},
   "outputs": [
    {
     "data": {
      "text/plain": [
       "<AxesSubplot:ylabel='Density'>"
      ]
     },
     "execution_count": 44,
     "metadata": {},
     "output_type": "execute_result"
    },
    {
     "data": {
      "image/png": "[encoded data removed]",
      "text/plain": [
       "<Figure size 1080x648 with 7 Axes>"
      ]
     },
     "metadata": {
      "needs_background": "light"
     },
     "output_type": "display_data"
    }
   ],
   "source": [
    "plt.figure(figsize=(15,9))\n",
    "plt.subplot(2,4,1)\n",
    "df1['selling_price'].plot(kind='kde')\n",
    "\n",
    "plt.subplot(2,4,2)\n",
    "df1['km_driven'].plot(kind='kde')\n",
    "\n",
    "plt.subplot(2,4,3)\n",
    "df1['mileage'].plot(kind='kde')\n",
    "\n",
    "plt.subplot(2,4,4)\n",
    "df1['engine'].plot(kind='kde')\n",
    "\n",
    "plt.subplot(2,4,5)\n",
    "df1['max_power'].plot(kind='kde')\n",
    "\n",
    "plt.subplot(2,4,6)\n",
    "df1['seats'].plot(kind='kde')\n",
    "\n",
    "plt.subplot(2,4,7)\n",
    "df1['Age_of_car'].plot(kind='kde')"
   ]
  },
  {
   "cell_type": "code",
   "execution_count": 45,
   "id": "a4b71fb7",
   "metadata": {},
   "outputs": [],
   "source": [
    "df1['selling_price'] = np.log(df1['selling_price'])"
   ]
  },
  {
   "cell_type": "code",
   "execution_count": 46,
   "id": "58d51af9",
   "metadata": {},
   "outputs": [],
   "source": [
    "df1['km_driven'] = np.log(df1['km_driven'])"
   ]
  },
  {
   "cell_type": "code",
   "execution_count": 53,
   "id": "8a96141b",
   "metadata": {},
   "outputs": [],
   "source": [
    "df1['mileage'] = np.log(df1['mileage'])"
   ]
  },
  {
   "cell_type": "code",
   "execution_count": 48,
   "id": "7456d56b",
   "metadata": {},
   "outputs": [],
   "source": [
    "df1['engine'] = np.log(df1['engine'])"
   ]
  },
  {
   "cell_type": "code",
   "execution_count": 49,
   "id": "aef35071",
   "metadata": {},
   "outputs": [],
   "source": [
    "df1['max_power'] = np.log(df1['max_power'])"
   ]
  },
  {
   "cell_type": "code",
   "execution_count": 50,
   "id": "3cd043e0",
   "metadata": {},
   "outputs": [],
   "source": [
    "df1['Age_of_car'] = np.log(df1['Age_of_car'])"
   ]
  },
  {
   "cell_type": "code",
   "execution_count": 54,
   "id": "8012fb14",
   "metadata": {},
   "outputs": [],
   "source": [
    "df1['mileage']=df1['mileage'].fillna(df1['mileage'].mean())"
   ]
  },
  {
   "cell_type": "code",
   "execution_count": 55,
   "id": "7119c580",
   "metadata": {
    "scrolled": false
   },
   "outputs": [
    {
     "data": {
      "text/plain": [
       "<AxesSubplot:ylabel='Density'>"
      ]
     },
     "execution_count": 55,
     "metadata": {},
     "output_type": "execute_result"
    },
    {
     "data": {
      "image/png": "[encoded data removed]",
      "text/plain": [
       "<Figure size 1080x648 with 7 Axes>"
      ]
     },
     "metadata": {
      "needs_background": "light"
     },
     "output_type": "display_data"
    }
   ],
   "source": [
    "plt.figure(figsize=(15,9))\n",
    "plt.subplot(2,4,1)\n",
    "df1['selling_price'].plot(kind='kde')\n",
    "\n",
    "plt.subplot(2,4,2)\n",
    "df1['km_driven'].plot(kind='kde')\n",
    "\n",
    "plt.subplot(2,4,3)\n",
    "df1['mileage'].plot(kind='kde')\n",
    "\n",
    "plt.subplot(2,4,4)\n",
    "df1['engine'].plot(kind='kde')\n",
    "\n",
    "plt.subplot(2,4,5)\n",
    "df1['max_power'].plot(kind='kde')\n",
    "\n",
    "plt.subplot(2,4,6)\n",
    "df1['seats'].plot(kind='kde')\n",
    "\n",
    "plt.subplot(2,4,7)\n",
    "df1['Age_of_car'].plot(kind='kde')"
   ]
  },
  {
   "cell_type": "code",
   "execution_count": 56,
   "id": "995c726e",
   "metadata": {},
   "outputs": [],
   "source": [
    "df1.drop(['year','name','Company name'],axis=1,inplace=True)"
   ]
  },
  {
   "cell_type": "markdown",
   "id": "4f3b794f",
   "metadata": {},
   "source": [
    "### Understanding the variables and use the correlation matrix to make the process easy"
   ]
  },
  {
   "cell_type": "code",
   "execution_count": 57,
   "id": "8a578fd7",
   "metadata": {
    "scrolled": true
   },
   "outputs": [
    {
     "data": {
      "text/plain": [
       "<AxesSubplot:>"
      ]
     },
     "execution_count": 57,
     "metadata": {},
     "output_type": "execute_result"
    },
    {
     "data": {
      "image/png": "[encoded data removed]",
      "text/plain": [
       "<Figure size 432x432 with 2 Axes>"
      ]
     },
     "metadata": {
      "needs_background": "light"
     },
     "output_type": "display_data"
    }
   ],
   "source": [
    "plt.figure(figsize=(6,6))\n",
    "sns.heatmap(df1.corr(),annot=True)"
   ]
  },
  {
   "cell_type": "markdown",
   "id": "17c38d2c",
   "metadata": {},
   "source": []
  },
  {
   "cell_type": "code",
   "execution_count": 58,
   "id": "394665e6",
   "metadata": {},
   "outputs": [
    {
     "data": {
      "text/plain": [
       "selling_price    1.000000\n",
       "km_driven       -0.272068\n",
       "mileage         -0.021773\n",
       "engine           0.510683\n",
       "max_power        0.681675\n",
       "seats            0.268454\n",
       "Age_of_car      -0.667678\n",
       "Name: selling_price, dtype: float64"
      ]
     },
     "execution_count": 58,
     "metadata": {},
     "output_type": "execute_result"
    }
   ],
   "source": [
    "df1.corr()['selling_price']\n"
   ]
  },
  {
   "cell_type": "raw",
   "id": "483b6ced",
   "metadata": {},
   "source": [
    "* -1 indicates a perfectly negative linear correlation between two variables\n",
    "\n",
    "* 0 indicates no linear correlation between two variables\n",
    "\n",
    "* 1 indicates a perfectly positive linear correlation between two variables"
   ]
  },
  {
   "cell_type": "markdown",
   "id": "045ab459",
   "metadata": {},
   "source": [
    "### Model building"
   ]
  },
  {
   "cell_type": "code",
   "execution_count": 59,
   "id": "522cbbed",
   "metadata": {},
   "outputs": [
    {
     "data": {
      "text/html": [
       "<div>\n",
       "<style scoped>\n",
       "    .dataframe tbody tr th:only-of-type {\n",
       "        vertical-align: middle;\n",
       "    }\n",
       "\n",
       "    .dataframe tbody tr th {\n",
       "        vertical-align: top;\n",
       "    }\n",
       "\n",
       "    .dataframe thead th {\n",
       "        text-align: right;\n",
       "    }\n",
       "</style>\n",
       "<table border=\"1\" class=\"dataframe\">\n",
       "  <thead>\n",
       "    <tr style=\"text-align: right;\">\n",
       "      <th></th>\n",
       "      <th>selling_price</th>\n",
       "      <th>km_driven</th>\n",
       "      <th>fuel</th>\n",
       "      <th>seller_type</th>\n",
       "      <th>transmission</th>\n",
       "      <th>owner</th>\n",
       "      <th>mileage</th>\n",
       "      <th>engine</th>\n",
       "      <th>max_power</th>\n",
       "      <th>seats</th>\n",
       "      <th>Age_of_car</th>\n",
       "    </tr>\n",
       "  </thead>\n",
       "  <tbody>\n",
       "    <tr>\n",
       "      <th>0</th>\n",
       "      <td>13.017003</td>\n",
       "      <td>11.887931</td>\n",
       "      <td>Diesel</td>\n",
       "      <td>Individual</td>\n",
       "      <td>Manual</td>\n",
       "      <td>First Owner</td>\n",
       "      <td>1.148271</td>\n",
       "      <td>7.129298</td>\n",
       "      <td>4.304065</td>\n",
       "      <td>5</td>\n",
       "      <td>2.079442</td>\n",
       "    </tr>\n",
       "    <tr>\n",
       "      <th>1</th>\n",
       "      <td>12.821258</td>\n",
       "      <td>11.695247</td>\n",
       "      <td>Diesel</td>\n",
       "      <td>Individual</td>\n",
       "      <td>Manual</td>\n",
       "      <td>Second Owner</td>\n",
       "      <td>1.115524</td>\n",
       "      <td>7.311886</td>\n",
       "      <td>4.639765</td>\n",
       "      <td>5</td>\n",
       "      <td>2.079442</td>\n",
       "    </tr>\n",
       "  </tbody>\n",
       "</table>\n",
       "</div>"
      ],
      "text/plain": [
       "   selling_price  km_driven    fuel seller_type transmission         owner  \\\n",
       "0      13.017003  11.887931  Diesel  Individual       Manual   First Owner   \n",
       "1      12.821258  11.695247  Diesel  Individual       Manual  Second Owner   \n",
       "\n",
       "    mileage    engine  max_power  seats  Age_of_car  \n",
       "0  1.148271  7.129298   4.304065      5    2.079442  \n",
       "1  1.115524  7.311886   4.639765      5    2.079442  "
      ]
     },
     "execution_count": 59,
     "metadata": {},
     "output_type": "execute_result"
    }
   ],
   "source": [
    "df1.head(2)"
   ]
  },
  {
   "cell_type": "raw",
   "id": "849514ea",
   "metadata": {},
   "source": [
    "Why we use encoding in machine learning?\n",
    "Encoding is a technique of converting categorical variables into numerical values so that it could be easily fitted to a machine learning model."
   ]
  },
  {
   "cell_type": "code",
   "execution_count": 60,
   "id": "fe494113",
   "metadata": {},
   "outputs": [],
   "source": [
    "df_main = pd.get_dummies(data = df1,drop_first=True)"
   ]
  },
  {
   "cell_type": "code",
   "execution_count": 61,
   "id": "ddedd4a7",
   "metadata": {},
   "outputs": [
    {
     "data": {
      "text/html": [
       "<div>\n",
       "<style scoped>\n",
       "    .dataframe tbody tr th:only-of-type {\n",
       "        vertical-align: middle;\n",
       "    }\n",
       "\n",
       "    .dataframe tbody tr th {\n",
       "        vertical-align: top;\n",
       "    }\n",
       "\n",
       "    .dataframe thead th {\n",
       "        text-align: right;\n",
       "    }\n",
       "</style>\n",
       "<table border=\"1\" class=\"dataframe\">\n",
       "  <thead>\n",
       "    <tr style=\"text-align: right;\">\n",
       "      <th></th>\n",
       "      <th>selling_price</th>\n",
       "      <th>km_driven</th>\n",
       "      <th>mileage</th>\n",
       "      <th>engine</th>\n",
       "      <th>max_power</th>\n",
       "      <th>seats</th>\n",
       "      <th>Age_of_car</th>\n",
       "      <th>fuel_Diesel</th>\n",
       "      <th>fuel_LPG</th>\n",
       "      <th>fuel_Petrol</th>\n",
       "      <th>seller_type_Individual</th>\n",
       "      <th>seller_type_Trustmark Dealer</th>\n",
       "      <th>transmission_Manual</th>\n",
       "      <th>owner_Fourth &amp; Above Owner</th>\n",
       "      <th>owner_Second Owner</th>\n",
       "      <th>owner_Test Drive Car</th>\n",
       "      <th>owner_Third Owner</th>\n",
       "    </tr>\n",
       "  </thead>\n",
       "  <tbody>\n",
       "    <tr>\n",
       "      <th>0</th>\n",
       "      <td>13.017003</td>\n",
       "      <td>11.887931</td>\n",
       "      <td>1.148271</td>\n",
       "      <td>7.129298</td>\n",
       "      <td>4.304065</td>\n",
       "      <td>5</td>\n",
       "      <td>2.079442</td>\n",
       "      <td>1</td>\n",
       "      <td>0</td>\n",
       "      <td>0</td>\n",
       "      <td>1</td>\n",
       "      <td>0</td>\n",
       "      <td>1</td>\n",
       "      <td>0</td>\n",
       "      <td>0</td>\n",
       "      <td>0</td>\n",
       "      <td>0</td>\n",
       "    </tr>\n",
       "    <tr>\n",
       "      <th>1</th>\n",
       "      <td>12.821258</td>\n",
       "      <td>11.695247</td>\n",
       "      <td>1.115524</td>\n",
       "      <td>7.311886</td>\n",
       "      <td>4.639765</td>\n",
       "      <td>5</td>\n",
       "      <td>2.079442</td>\n",
       "      <td>1</td>\n",
       "      <td>0</td>\n",
       "      <td>0</td>\n",
       "      <td>1</td>\n",
       "      <td>0</td>\n",
       "      <td>1</td>\n",
       "      <td>0</td>\n",
       "      <td>1</td>\n",
       "      <td>0</td>\n",
       "      <td>0</td>\n",
       "    </tr>\n",
       "    <tr>\n",
       "      <th>2</th>\n",
       "      <td>11.970350</td>\n",
       "      <td>11.849398</td>\n",
       "      <td>1.055553</td>\n",
       "      <td>7.311218</td>\n",
       "      <td>4.356709</td>\n",
       "      <td>5</td>\n",
       "      <td>2.772589</td>\n",
       "      <td>0</td>\n",
       "      <td>0</td>\n",
       "      <td>1</td>\n",
       "      <td>1</td>\n",
       "      <td>0</td>\n",
       "      <td>1</td>\n",
       "      <td>0</td>\n",
       "      <td>0</td>\n",
       "      <td>0</td>\n",
       "      <td>1</td>\n",
       "    </tr>\n",
       "    <tr>\n",
       "      <th>3</th>\n",
       "      <td>12.323856</td>\n",
       "      <td>11.751942</td>\n",
       "      <td>1.142787</td>\n",
       "      <td>7.241366</td>\n",
       "      <td>4.499810</td>\n",
       "      <td>5</td>\n",
       "      <td>2.484907</td>\n",
       "      <td>1</td>\n",
       "      <td>0</td>\n",
       "      <td>0</td>\n",
       "      <td>1</td>\n",
       "      <td>0</td>\n",
       "      <td>1</td>\n",
       "      <td>0</td>\n",
       "      <td>0</td>\n",
       "      <td>0</td>\n",
       "      <td>0</td>\n",
       "    </tr>\n",
       "    <tr>\n",
       "      <th>4</th>\n",
       "      <td>11.775290</td>\n",
       "      <td>11.695247</td>\n",
       "      <td>1.022026</td>\n",
       "      <td>7.168580</td>\n",
       "      <td>4.479607</td>\n",
       "      <td>5</td>\n",
       "      <td>2.708050</td>\n",
       "      <td>0</td>\n",
       "      <td>0</td>\n",
       "      <td>1</td>\n",
       "      <td>1</td>\n",
       "      <td>0</td>\n",
       "      <td>1</td>\n",
       "      <td>0</td>\n",
       "      <td>0</td>\n",
       "      <td>0</td>\n",
       "      <td>0</td>\n",
       "    </tr>\n",
       "  </tbody>\n",
       "</table>\n",
       "</div>"
      ],
      "text/plain": [
       "   selling_price  km_driven   mileage    engine  max_power  seats  Age_of_car  \\\n",
       "0      13.017003  11.887931  1.148271  7.129298   4.304065      5    2.079442   \n",
       "1      12.821258  11.695247  1.115524  7.311886   4.639765      5    2.079442   \n",
       "2      11.970350  11.849398  1.055553  7.311218   4.356709      5    2.772589   \n",
       "3      12.323856  11.751942  1.142787  7.241366   4.499810      5    2.484907   \n",
       "4      11.775290  11.695247  1.022026  7.168580   4.479607      5    2.708050   \n",
       "\n",
       "   fuel_Diesel  fuel_LPG  fuel_Petrol  seller_type_Individual  \\\n",
       "0            1         0            0                       1   \n",
       "1            1         0            0                       1   \n",
       "2            0         0            1                       1   \n",
       "3            1         0            0                       1   \n",
       "4            0         0            1                       1   \n",
       "\n",
       "   seller_type_Trustmark Dealer  transmission_Manual  \\\n",
       "0                             0                    1   \n",
       "1                             0                    1   \n",
       "2                             0                    1   \n",
       "3                             0                    1   \n",
       "4                             0                    1   \n",
       "\n",
       "   owner_Fourth & Above Owner  owner_Second Owner  owner_Test Drive Car  \\\n",
       "0                           0                   0                     0   \n",
       "1                           0                   1                     0   \n",
       "2                           0                   0                     0   \n",
       "3                           0                   0                     0   \n",
       "4                           0                   0                     0   \n",
       "\n",
       "   owner_Third Owner  \n",
       "0                  0  \n",
       "1                  0  \n",
       "2                  1  \n",
       "3                  0  \n",
       "4                  0  "
      ]
     },
     "execution_count": 61,
     "metadata": {},
     "output_type": "execute_result"
    }
   ],
   "source": [
    "df_main.head()"
   ]
  },
  {
   "cell_type": "code",
   "execution_count": 62,
   "id": "ad5c7b9a",
   "metadata": {},
   "outputs": [],
   "source": [
    "x=df_main.drop(['selling_price'],axis=1)\n",
    "y=df_main.selling_price"
   ]
  },
  {
   "cell_type": "code",
   "execution_count": 63,
   "id": "9858124e",
   "metadata": {},
   "outputs": [
    {
     "name": "stdout",
     "output_type": "stream",
     "text": [
      "(6717, 16)\n",
      "(6717,)\n"
     ]
    }
   ],
   "source": [
    "print(x.shape)\n",
    "print(y.shape)"
   ]
  },
  {
   "cell_type": "code",
   "execution_count": 64,
   "id": "72315d6c",
   "metadata": {},
   "outputs": [],
   "source": [
    "from sklearn.model_selection import train_test_split"
   ]
  },
  {
   "cell_type": "code",
   "execution_count": 65,
   "id": "c8df6135",
   "metadata": {
    "scrolled": true
   },
   "outputs": [
    {
     "name": "stdout",
     "output_type": "stream",
     "text": [
      "x train:  (4701, 16)\n",
      "x test:  (2016, 16)\n",
      "y train:  (4701,)\n",
      "y test:  (2016,)\n"
     ]
    }
   ],
   "source": [
    "x_train, x_test, y_train, y_test = train_test_split(x,y,test_size=0.3,random_state = 100)\n",
    "print(\"x train: \",x_train.shape)\n",
    "print(\"x test: \",x_test.shape)\n",
    "print(\"y train: \",y_train.shape)\n",
    "print(\"y test: \",y_test.shape)"
   ]
  },
  {
   "cell_type": "raw",
   "id": "c3f00a5e",
   "metadata": {},
   "source": [
    "The random state function controls the shuffling process.\n",
    "\n",
    "With random_state=None , we get different train and test sets across different executions and the shuffling process is out of control. \n",
    "\n",
    "With random_state=0 , we get the same train and test sets across different executions."
   ]
  },
  {
   "cell_type": "markdown",
   "id": "c4f8a2f0",
   "metadata": {},
   "source": [
    "## Random Forest"
   ]
  },
  {
   "cell_type": "code",
   "execution_count": 79,
   "id": "4cd5a54c",
   "metadata": {},
   "outputs": [
    {
     "name": "stdout",
     "output_type": "stream",
     "text": [
      "R2 Score and Mse using test data\n",
      "91.25423538826938\n",
      "4.932070890928016\n",
      "-----------------------------------\n",
      "-----------------------------------\n",
      "R2 Score and Mse using train data\n",
      "98.57683903075795\n",
      "0.8004215454936618\n"
     ]
    }
   ],
   "source": [
    "# importing random forest model\n",
    "from sklearn.ensemble import RandomForestRegressor\n",
    "\n",
    "rf = RandomForestRegressor()\n",
    "\n",
    "# fit training data in to the MODEL\n",
    "rf.fit(x_train, y_train)\n",
    "\n",
    "# predict using test data \n",
    "pred=rf.predict(x_test)\n",
    "# predict using train data \n",
    "train_pred= rf.predict(x_train)\n",
    "\n",
    "print(\"R2 Score and Mse using test data\")\n",
    "print(r2_score(y_test,pred)*100,)\n",
    "print(mean_squared_error(y_test,pred)*100)\n",
    "\n",
    "print(\"-----------------------------------\")\n",
    "print(\"-----------------------------------\")\n",
    "\n",
    "print(\"R2 Score and Mse using train data\")\n",
    "print(r2_score(y_train,train_pred)*100)\n",
    "print(mean_squared_error(y_train,train_pred)*100)"
   ]
  },
  {
   "cell_type": "markdown",
   "id": "ac4f31bd",
   "metadata": {},
   "source": [
    "# Hyperparameter Tuning"
   ]
  },
  {
   "cell_type": "raw",
   "id": "efae5557",
   "metadata": {},
   "source": [
    "Hyperparameter tuning is an essential part of controlling the behavior of a machine learning model. If we don't correctly tune our hyperparameters, our estimated model parameters produce suboptimal results, as they don't minimize the loss function. This means our model makes more errors."
   ]
  },
  {
   "cell_type": "code",
   "execution_count": 83,
   "id": "9663e8f4",
   "metadata": {},
   "outputs": [],
   "source": [
    "from sklearn.ensemble import RandomForestRegressor\n",
    "from sklearn.model_selection import RandomizedSearchCV\n",
    "\n",
    "rfh = RandomForestRegressor()\n",
    "\n",
    "# Number of trees in Random forest\n",
    "n_estimators=list(range(500,1000,100))\n",
    "# Maximum number of levels in a tree\n",
    "max_depth=list(range(4,9,4))\n",
    "# Minimum number of samples required to split an internal node\n",
    "min_samples_split=list(range(4,9,2))\n",
    "# Minimum number of samples required to be at a leaf node.\n",
    "min_samples_leaf=[1,2,5,7]\n",
    "# Number of fearures to be considered at each split\n",
    "max_features=['auto','sqrt']\n",
    "\n",
    "# Hyperparameters dict\n",
    "param_grid = {\"n_estimators\":n_estimators,\n",
    "              \"max_depth\":max_depth,\n",
    "              \"min_samples_split\":min_samples_split,\n",
    "              \"min_samples_leaf\":min_samples_leaf,\n",
    "              \"max_features\":max_features}\n",
    "\n",
    "rf_rs = RandomizedSearchCV(estimator = rf, param_distributions = param_grid)"
   ]
  },
  {
   "cell_type": "code",
   "execution_count": 86,
   "id": "978fc40e",
   "metadata": {},
   "outputs": [
    {
     "name": "stdout",
     "output_type": "stream",
     "text": [
      "R2 Score and Mse using test data\n",
      "89.80920451871489\n",
      "5.746979021277497\n",
      "-----------------------------------\n",
      "-----------------------------------\n",
      "R2 Score and Mse using train data\n",
      "92.55131806836702\n",
      "4.189326177757461\n"
     ]
    }
   ],
   "source": [
    "# fit training data in to the MODEL\n",
    "pred =rf_rs.fit(x_train, y_train)\n",
    "\n",
    "# predict using test data \n",
    "pred=rf_rs.predict(x_test)\n",
    "# predict using train data \n",
    "train_pred= rf_rs.predict(x_train)\n",
    "\n",
    "print(\"R2 Score and Mse using test data\")\n",
    "print(r2_score(y_test,pred)*100,)\n",
    "print(mean_squared_error(y_test,pred)*100)\n",
    "\n",
    "print(\"-----------------------------------\")\n",
    "print(\"-----------------------------------\")\n",
    "\n",
    "print(\"R2 Score and Mse using train data\")\n",
    "print(r2_score(y_train,train_pred)*100)\n",
    "print(mean_squared_error(y_train,train_pred)*100)"
   ]
  },
  {
   "cell_type": "markdown",
   "id": "f8d34f14",
   "metadata": {},
   "source": [
    "In machine learning, specifically empirical risk minimization, MSE may refer to the empirical risk (the average loss on an observed data set), as an estimate of the true MSE (the true risk: the average loss on the actual population distribution). The MSE is a measure of the quality of an estimator."
   ]
  },
  {
   "cell_type": "markdown",
   "id": "93efd8db",
   "metadata": {},
   "source": [
    "# Gradient boosting"
   ]
  },
  {
   "cell_type": "code",
   "execution_count": 68,
   "id": "30e8e123",
   "metadata": {},
   "outputs": [
    {
     "name": "stdout",
     "output_type": "stream",
     "text": [
      "89.53166626799806\n",
      "5.903493447202427\n"
     ]
    }
   ],
   "source": [
    "\n",
    "from sklearn.ensemble import GradientBoostingRegressor\n",
    "gb = GradientBoostingRegressor()\n",
    "gb.fit(x_train, y_train)\n",
    "pred=gb.predict(x_test)\n",
    "print(r2_score(y_test,pred)*100)\n",
    "print(mean_squared_error(y_test,pred)*100)"
   ]
  },
  {
   "cell_type": "markdown",
   "id": "c1bc64be",
   "metadata": {},
   "source": [
    "# DecisionTreeRegressor"
   ]
  },
  {
   "cell_type": "code",
   "execution_count": 91,
   "id": "8bf08352",
   "metadata": {},
   "outputs": [
    {
     "name": "stdout",
     "output_type": "stream",
     "text": [
      "R2 Score and Mse using test data\n",
      "84.16279777385698\n",
      "8.931203566642044\n",
      "-----------------------------------\n",
      "-----------------------------------\n",
      "R2 Score and Mse using train data\n",
      "99.82779280156835\n",
      "0.09685366230019803\n"
     ]
    }
   ],
   "source": [
    "\n",
    "from sklearn.tree import DecisionTreeRegressor\n",
    "\n",
    "regressor = DecisionTreeRegressor(random_state = 0)\n",
    "\n",
    "regressor.fit(x_train, y_train)\n",
    "\n",
    "pred=regressor.predict(x_test)\n",
    "\n",
    "train_pred= regressor.predict(x_train)\n",
    "\n",
    "\n",
    "print(\"R2 Score and Mse using test data\")\n",
    "print(r2_score(y_test,pred)*100,)\n",
    "print(mean_squared_error(y_test,pred)*100)\n",
    "\n",
    "print(\"-----------------------------------\")\n",
    "print(\"-----------------------------------\")\n",
    "\n",
    "print(\"R2 Score and Mse using train data\")\n",
    "print(r2_score(y_train,train_pred)*100)\n",
    "print(mean_squared_error(y_train,train_pred)*100)"
   ]
  },
  {
   "cell_type": "markdown",
   "id": "b83c4f23",
   "metadata": {},
   "source": [
    "# LinearRegression"
   ]
  },
  {
   "cell_type": "code",
   "execution_count": 89,
   "id": "392464bf",
   "metadata": {},
   "outputs": [
    {
     "name": "stdout",
     "output_type": "stream",
     "text": [
      "R2 Score and Mse using test data\n",
      "82.83412639644949\n",
      "9.680492132599\n",
      "-----------------------------------\n",
      "-----------------------------------\n",
      "R2 Score and Mse using train data\n",
      "82.15416269098365\n",
      "10.036948025014256\n"
     ]
    }
   ],
   "source": [
    "\n",
    "from sklearn.linear_model import LinearRegression\n",
    "lr=LinearRegression()\n",
    "\n",
    "lr.fit(x_train, y_train)\n",
    "\n",
    "pred=lr.predict(x_test)\n",
    "\n",
    "train_pred= lr.predict(x_train)\n",
    "\n",
    "from sklearn.metrics import r2_score,mean_squared_error\n",
    "\n",
    "print(\"R2 Score and Mse using test data\")\n",
    "print(r2_score(y_test,pred)*100,)\n",
    "print(mean_squared_error(y_test,pred)*100)\n",
    "\n",
    "print(\"-----------------------------------\")\n",
    "print(\"-----------------------------------\")\n",
    "\n",
    "print(\"R2 Score and Mse using train data\")\n",
    "print(r2_score(y_train,train_pred)*100)\n",
    "print(mean_squared_error(y_train,train_pred)*100)\n"
   ]
  }
 ],
 "metadata": {
  "kernelspec": {
   "display_name": "Python 3",
   "language": "python",
   "name": "python3"
  },
  "language_info": {
   "codemirror_mode": {
    "name": "ipython",
    "version": 3
   },
   "file_extension": ".py",
   "mimetype": "text/x-python",
   "name": "python",
   "nbconvert_exporter": "python",
   "pygments_lexer": "ipython3",
   "version": "3.8.8"
  }
 },
 "nbformat": 4,
 "nbformat_minor": 5
}
